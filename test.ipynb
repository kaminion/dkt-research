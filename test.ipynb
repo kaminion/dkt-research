{
 "cells": [
  {
   "cell_type": "code",
   "execution_count": 1,
   "metadata": {},
   "outputs": [
    {
     "name": "stderr",
     "output_type": "stream",
     "text": [
      "c:\\Users\\user2\\Desktop\\master_degree\\research\\env_research\\lib\\site-packages\\tqdm\\auto.py:21: TqdmWarning: IProgress not found. Please update jupyter and ipywidgets. See https://ipywidgets.readthedocs.io/en/stable/user_install.html\n",
      "  from .autonotebook import tqdm as notebook_tqdm\n"
     ]
    }
   ],
   "source": [
    "import matplotlib.pyplot as plt \n",
    "import json\n",
    "import pickle\n",
    "import torch\n",
    "import random \n",
    "import numpy as np\n",
    "import os \n",
    "\n",
    "from torch.optim import SGD, Adam\n",
    "from torch.utils.data import DataLoader, random_split\n",
    "from torch.nn.functional import binary_cross_entropy\n",
    "from sklearn import metrics \n",
    "\n",
    "from data_loaders.assist2009 import ASSIST2009\n",
    "from data_loaders.assist2012 import ASSIST2012\n",
    "from data_loaders.ednet01 import EdNet01\n",
    "\n",
    "from models.dkvmn_text import SUBJ_DKVMN\n",
    "from models.dkvmn_text import train_model as plus_train\n",
    "\n",
    "from models.utils import collate_fn, collate_ednet, cal_acc_class\n",
    "\n",
    "%matplotlib inline\n",
    "\n",
    "seed = 1004\n",
    "\n",
    "random.seed(seed)\n",
    "np.random.seed(seed)\n",
    "torch.manual_seed(seed)\n",
    "torch.cuda.manual_seed_all(seed)\n",
    "\n",
    "device = \"cpu\"\n",
    "if torch.cuda.is_available():\n",
    "    device = \"cuda\""
   ]
  },
  {
   "cell_type": "code",
   "execution_count": 2,
   "metadata": {},
   "outputs": [],
   "source": [
    "model_name = 'dkvmn+'\n",
    "dataset_name = 'ASSIST2009'\n",
    "dataset = None\n",
    "ckpts = f\"ckpts/{model_name}/{dataset_name}/\"\n",
    "\n",
    "with open(\"config.json\") as f:\n",
    "    config = json.load(f)\n",
    "    model_config = config[model_name]\n",
    "    train_config = config[\"train_config\"]\n",
    "    \n",
    "batch_size = train_config[\"batch_size\"]\n",
    "num_epochs = train_config[\"num_epochs\"]\n",
    "train_ratio = train_config[\"train_ratio\"]\n",
    "learning_rate = train_config[\"learning_rate\"]\n",
    "optimizer = train_config[\"optimizer\"] # can be sgd, adam\n",
    "seq_len = train_config[\"seq_len\"] # 샘플링 할 갯수"
   ]
  },
  {
   "cell_type": "code",
   "execution_count": 3,
   "metadata": {},
   "outputs": [],
   "source": [
    "# 데이터셋 추가 가능\n",
    "collate_pt = collate_fn\n",
    "if dataset_name == \"ASSIST2009\":\n",
    "    dataset = ASSIST2009(seq_len, 'datasets/ASSIST2009/')\n",
    "elif dataset_name == \"ASSIST2012\":\n",
    "    dataset = ASSIST2012(seq_len, 'datasets/ASSIST2012/')"
   ]
  },
  {
   "cell_type": "code",
   "execution_count": 4,
   "metadata": {},
   "outputs": [],
   "source": [
    "def train_model(model, test_loader, ckpt_path):\n",
    "    '''\n",
    "        Args:\n",
    "            train_loader: the PyTorch DataLoader instance for training\n",
    "            test_loader: the PyTorch DataLoader instance for test\n",
    "            num_epochs: the number of epochs\n",
    "            opt: the optimization to train this model\n",
    "            ckpt_path: the path to save this model's parameters\n",
    "    '''\n",
    "    aucs = []\n",
    "    loss_means = []  \n",
    "    accs = []\n",
    "    q_accs = {}\n",
    "    \n",
    "    max_auc = 0\n",
    "    \n",
    "    # Test\n",
    "    model.load_state_dict(torch.load(os.path.join(ckpt_path, \"model.ckpt\"), map_location=device))\n",
    "    loss_mean = []\n",
    "    with torch.no_grad():\n",
    "        for i, data in enumerate(test_loader):\n",
    "            q, r, qshft_seqs, rshft_seqs, m, bert_s, bert_t, bert_m, q2diff_seqs, pid_seqs, pidshift, hint_seqs = data\n",
    "\n",
    "            model.eval()\n",
    "\n",
    "            y, Mv, w = model(q.long(), r.long(), bert_s, bert_t, bert_m, q2diff_seqs.long(), pid_seqs.long())\n",
    "\n",
    "            # y와 t 변수에 있는 행렬들에서 마스킹이 true로 된 값들만 불러옴\n",
    "            q = torch.masked_select(q, m).detach().cpu()\n",
    "            y = torch.masked_select(y, m).detach().cpu()\n",
    "            t = torch.masked_select(r, m).detach().cpu()\n",
    "\n",
    "            auc = metrics.roc_auc_score(\n",
    "                y_true=t.numpy(), y_score=y.numpy()\n",
    "            )\n",
    "            bin_y = [1 if p >= 0.5 else 0 for p in y.numpy()]\n",
    "            acc = metrics.accuracy_score(t.numpy(), bin_y)\n",
    "            loss = binary_cross_entropy(y, t) # 실제 y^T와 원핫 결합, 다음 answer 간 cross entropy\n",
    "\n",
    "            print(f\"[Test] number: {i}, AUC: {auc}, ACC: :{acc} Loss: {loss} \")\n",
    "\n",
    "            # evaluation metrics\n",
    "            aucs.append(auc)\n",
    "            loss_mean.append(loss)     \n",
    "            accs.append(acc)\n",
    "            q_accs, cnt = cal_acc_class(q.long(), t.long(), bin_y)\n",
    "            break\n",
    "        loss_means.append(np.mean(loss_mean))\n",
    "\n",
    "\n",
    "    return aucs, loss_means, accs, q_accs, cnt, Mv, w, q, t"
   ]
  },
  {
   "cell_type": "code",
   "execution_count": 5,
   "metadata": {},
   "outputs": [
    {
     "name": "stderr",
     "output_type": "stream",
     "text": [
      "Some weights of the model checkpoint at bert-base-uncased were not used when initializing BertModel: ['cls.predictions.transform.LayerNorm.bias', 'cls.predictions.transform.dense.bias', 'cls.predictions.decoder.weight', 'cls.predictions.transform.dense.weight', 'cls.seq_relationship.weight', 'cls.seq_relationship.bias', 'cls.predictions.bias', 'cls.predictions.transform.LayerNorm.weight']\n",
      "- This IS expected if you are initializing BertModel from the checkpoint of a model trained on another task or with another architecture (e.g. initializing a BertForSequenceClassification model from a BertForPreTraining model).\n",
      "- This IS NOT expected if you are initializing BertModel from the checkpoint of a model that you expect to be exactly identical (initializing a BertForSequenceClassification model from a BertForSequenceClassification model).\n"
     ]
    }
   ],
   "source": [
    "model = SUBJ_DKVMN(dataset.num_q, num_qid=dataset.num_pid, **model_config)\n",
    "train_model = train_model"
   ]
  },
  {
   "cell_type": "code",
   "execution_count": 6,
   "metadata": {},
   "outputs": [],
   "source": [
    "# 데이터셋 분할\n",
    "data_size = len(dataset)\n",
    "train_size = int(data_size * train_ratio) \n",
    "valid_size = int(data_size * ((1.0 - train_ratio) / 2.0))\n",
    "test_size = data_size - train_size - valid_size\n",
    "\n",
    "train_dataset, valid_dataset, test_dataset = random_split(\n",
    "    dataset, [train_size, valid_size, test_size], generator=torch.Generator(device=device)\n",
    ")\n",
    "\n",
    "# pickle에 얼마만큼 분할했는지 읽기\n",
    "if os.path.exists(os.path.join(dataset.dataset_dir, \"train_indices.pkl\")):\n",
    "    with open(\n",
    "        os.path.join(dataset.dataset_dir, \"train_indices.pkl\"), \"rb\"\n",
    "    ) as f:\n",
    "        train_dataset.indices = pickle.load(f)\n",
    "    with open(\n",
    "        os.path.join(dataset.dataset_dir, \"valid_indicies.pkl\"), \"rb\"\n",
    "    ) as f:\n",
    "        valid_dataset.indices = pickle.load(f)\n",
    "    with open(\n",
    "        os.path.join(dataset.dataset_dir, \"test_indices.pkl\"), \"rb\"\n",
    "    ) as f:\n",
    "        test_dataset.indices = pickle.load(f)"
   ]
  },
  {
   "cell_type": "code",
   "execution_count": 7,
   "metadata": {},
   "outputs": [
    {
     "name": "stdout",
     "output_type": "stream",
     "text": [
      "[Test] number: 0, AUC: 0.9681324808848354, ACC: :0.9289991445680068 Loss: 0.18885724246501923 \n"
     ]
    }
   ],
   "source": [
    "train_loader = DataLoader(\n",
    "    train_dataset, batch_size=batch_size, shuffle=True,\n",
    "    collate_fn=collate_pt, generator=torch.Generator(device=device)\n",
    ")\n",
    "valid_loader = DataLoader(\n",
    "    valid_dataset, batch_size=batch_size, shuffle=True,\n",
    "    collate_fn=collate_pt, generator=torch.Generator(device=device)\n",
    ")\n",
    "test_loader = DataLoader(\n",
    "    test_dataset, batch_size=batch_size, shuffle=True,\n",
    "    collate_fn=collate_pt, generator=torch.Generator(device=device)\n",
    ")\n",
    "\n",
    "if optimizer == \"sgd\":\n",
    "    opt = SGD(model.parameters(), learning_rate, momentum=0.9)\n",
    "elif optimizer == \"adam\":\n",
    "    opt = Adam(model.parameters(), learning_rate)\n",
    "lr_scheduler = torch.optim.lr_scheduler.ExponentialLR(opt, gamma=0.5)\n",
    "opt.lr_scheduler = lr_scheduler\n",
    "\n",
    "model = SUBJ_DKVMN(dataset.num_q, num_qid=dataset.num_pid, **model_config)\n",
    "\n",
    "# 모델에서 미리 정의한 함수로 AUCS와 LOSS 계산    \n",
    "aucs, loss_means, accs, q_accs, q_cnts, Mv, w, q, t = \\\n",
    "    train_model(\n",
    "        model, test_loader, ckpts\n",
    "    )"
   ]
  },
  {
   "cell_type": "code",
   "execution_count": 8,
   "metadata": {},
   "outputs": [
    {
     "name": "stdout",
     "output_type": "stream",
     "text": [
      "tensor(7.8469)\n"
     ]
    }
   ],
   "source": [
    "print(torch.max(Mv[:, :-1])) # 컨셉 수 / 시퀀스? 임베딩 수"
   ]
  },
  {
   "cell_type": "code",
   "execution_count": 9,
   "metadata": {},
   "outputs": [
    {
     "name": "stdout",
     "output_type": "stream",
     "text": [
      "tensor([  0.,   0.,   0.,  ..., 100., 100.,  69.]) tensor([0., 0., 1.,  ..., 0., 0., 1.])\n"
     ]
    }
   ],
   "source": [
    "print(q, t)"
   ]
  },
  {
   "cell_type": "code",
   "execution_count": 10,
   "metadata": {},
   "outputs": [
    {
     "name": "stdout",
     "output_type": "stream",
     "text": [
      "tensor([102.])\n"
     ]
    }
   ],
   "source": [
    "print(q[q==102])"
   ]
  },
  {
   "cell_type": "code",
   "execution_count": 21,
   "metadata": {},
   "outputs": [
    {
     "name": "stderr",
     "output_type": "stream",
     "text": [
      "Some weights of the model checkpoint at bert-base-uncased were not used when initializing BertModel: ['cls.predictions.transform.LayerNorm.bias', 'cls.predictions.transform.dense.bias', 'cls.predictions.decoder.weight', 'cls.predictions.transform.dense.weight', 'cls.seq_relationship.weight', 'cls.seq_relationship.bias', 'cls.predictions.bias', 'cls.predictions.transform.LayerNorm.weight']\n",
      "- This IS expected if you are initializing BertModel from the checkpoint of a model trained on another task or with another architecture (e.g. initializing a BertForSequenceClassification model from a BertForPreTraining model).\n",
      "- This IS NOT expected if you are initializing BertModel from the checkpoint of a model that you expect to be exactly identical (initializing a BertForSequenceClassification model from a BertForSequenceClassification model).\n"
     ]
    },
    {
     "name": "stdout",
     "output_type": "stream",
     "text": [
      "torch.Size([24, 100, 110, 100])\n",
      "torch.Size([24, 100, 110, 100]) torch.Size([24, 100, 110, 100])\n",
      "torch.Size([24, 100, 110])\n",
      "tensor([[[0.5168, 0.5150, 0.5190,  ..., 0.5094, 0.5077, 0.5180],\n",
      "         [0.5193, 0.5319, 0.5177,  ..., 0.5134, 0.5194, 0.5109],\n",
      "         [0.5232, 0.5267, 0.5186,  ..., 0.5141, 0.5200, 0.5146],\n",
      "         ...,\n",
      "         [0.5246, 0.5202, 0.5210,  ..., 0.5055, 0.5138, 0.5213],\n",
      "         [0.5200, 0.5172, 0.5113,  ..., 0.5192, 0.5112, 0.5195],\n",
      "         [0.5271, 0.5271, 0.5130,  ..., 0.5147, 0.5182, 0.5107]],\n",
      "\n",
      "        [[0.5259, 0.5176, 0.5166,  ..., 0.5083, 0.5209, 0.5216],\n",
      "         [0.5321, 0.5197, 0.5131,  ..., 0.5129, 0.5055, 0.5160],\n",
      "         [0.5287, 0.5149, 0.5132,  ..., 0.5107, 0.5138, 0.5173],\n",
      "         ...,\n",
      "         [0.5295, 0.5264, 0.5138,  ..., 0.5148, 0.5093, 0.5089],\n",
      "         [0.5206, 0.5220, 0.5139,  ..., 0.5163, 0.5144, 0.5107],\n",
      "         [0.5142, 0.5161, 0.5164,  ..., 0.5087, 0.5086, 0.5165]],\n",
      "\n",
      "        [[0.5161, 0.5219, 0.5165,  ..., 0.5097, 0.5120, 0.5236],\n",
      "         [0.5189, 0.5168, 0.5128,  ..., 0.5118, 0.5121, 0.5194],\n",
      "         [0.5259, 0.5161, 0.5136,  ..., 0.5063, 0.5096, 0.5214],\n",
      "         ...,\n",
      "         [0.5309, 0.5220, 0.5148,  ..., 0.5062, 0.5151, 0.5250],\n",
      "         [0.5171, 0.5170, 0.5200,  ..., 0.5020, 0.5197, 0.5124],\n",
      "         [0.5197, 0.5169, 0.5166,  ..., 0.5113, 0.5191, 0.5190]],\n",
      "\n",
      "        ...,\n",
      "\n",
      "        [[0.5212, 0.5201, 0.5147,  ..., 0.5085, 0.5168, 0.5158],\n",
      "         [0.5300, 0.5193, 0.5131,  ..., 0.5008, 0.5195, 0.5198],\n",
      "         [0.5271, 0.5163, 0.5093,  ..., 0.5100, 0.5202, 0.5106],\n",
      "         ...,\n",
      "         [0.5046, 0.5120, 0.5192,  ..., 0.5109, 0.5111, 0.5159],\n",
      "         [0.5241, 0.5275, 0.5262,  ..., 0.5098, 0.5185, 0.5229],\n",
      "         [0.4908, 0.5271, 0.5166,  ..., 0.5090, 0.5213, 0.5224]],\n",
      "\n",
      "        [[0.5234, 0.5285, 0.5195,  ..., 0.5035, 0.5083, 0.5079],\n",
      "         [0.5254, 0.5273, 0.5184,  ..., 0.5046, 0.5170, 0.5207],\n",
      "         [0.5275, 0.5224, 0.5237,  ..., 0.5104, 0.5139, 0.5145],\n",
      "         ...,\n",
      "         [0.5251, 0.5204, 0.5226,  ..., 0.5063, 0.5095, 0.5250],\n",
      "         [0.5337, 0.5231, 0.5185,  ..., 0.5072, 0.5197, 0.5243],\n",
      "         [0.5495, 0.5179, 0.5236,  ..., 0.5224, 0.5120, 0.5175]],\n",
      "\n",
      "        [[0.5099, 0.5176, 0.5070,  ..., 0.5088, 0.5183, 0.5206],\n",
      "         [0.5201, 0.5079, 0.5177,  ..., 0.4995, 0.5173, 0.5125],\n",
      "         [0.5153, 0.5201, 0.5155,  ..., 0.5102, 0.5189, 0.5171],\n",
      "         ...,\n",
      "         [0.5217, 0.5191, 0.5138,  ..., 0.5112, 0.5160, 0.5247],\n",
      "         [0.5160, 0.5238, 0.5140,  ..., 0.5150, 0.5145, 0.5052],\n",
      "         [0.5221, 0.5190, 0.5119,  ..., 0.5111, 0.5132, 0.5084]]],\n",
      "       grad_fn=<SqueezeBackward1>)\n"
     ]
    }
   ],
   "source": [
    "# 모든 W값에 대한 빈 텐서를 생성\n",
    "# 마지막 layer 빼서 넘겨보기\n",
    "\n",
    "# Read Process = w * M\n",
    "# 그래서 R 값은 마스크한 형태이고, W값은 마스킹 한 쪽에 0값 달라는 얘기인 것 같음\n",
    "# 그럼 결론적으로 메모리만 들어가면 됨\n",
    "# input embedding 의 weight값에 마스킹 -> 문제 정보 이그노어\n",
    "# 1. R => memory로 그대로 사용\n",
    "# 2. Input Embedding (key embedding) 값 마스킹\n",
    "# 3. Linear 레이어에 통과 => 이게 concept state가 될거라고 함..\n",
    "# Memory \n",
    "\n",
    "knowledge_state = []\n",
    "# 1. 기존식의 Read content => memory value로 그대로 사용\n",
    "r = Mv[:, :-1]\n",
    "print(r.shape)\n",
    "\n",
    "# 2. 컨셉별 Key Embedding 값 마스킹\n",
    "rm = torch.zeros_like(r)\n",
    "\n",
    "print(r.shape, rm.shape,)\n",
    "\n",
    "# 3. Linear 레이어에 통과\n",
    "f = torch.tanh(\n",
    "    model.f_layer(\n",
    "    torch.cat(\n",
    "        [\n",
    "            r, # 하나 생성했으므로 마지막이 아닌 마지막 전의 110개의 컨셉들을 다 더해줌.\n",
    "            rm\n",
    "        ],\n",
    "        dim=-1\n",
    "    )\n",
    "    )\n",
    ")\n",
    "\n",
    "# 그 후 예측값 뱉기\n",
    "p = model.p_layer(model.dropout_layer(f))\n",
    "\n",
    "p = torch.sigmoid(p)\n",
    "p = p.squeeze(-1)\n",
    "print(p.shape)\n",
    "print(p)"
   ]
  },
  {
   "cell_type": "code",
   "execution_count": 60,
   "metadata": {},
   "outputs": [],
   "source": [
    "import seaborn as sns # 히트맵 사용\n",
    "# import matplotlib.\n",
    "import matplotlib.pyplot as plt\n",
    "\n",
    "cmaps = {}\n",
    "\n",
    "gradient = np.linspace(0, 1, 256)\n",
    "gradient = np.vstack((gradient, gradient))\n",
    "\n",
    "def plot_color_gradients(category, cmap_list):\n",
    "    # Create figure and adjust figure height to number of colormaps\n",
    "    nrows = len(cmap_list)\n",
    "    figh = 0.35 + 0.15 + (nrows + (nrows - 1) * 0.1) * 0.22\n",
    "    fig, axs = plt.subplots(nrows=nrows + 1, figsize=(6.4, figh))\n",
    "    fig.subplots_adjust(top=1 - 0.35 / figh, bottom=0.15 / figh,\n",
    "                        left=0.2, right=0.99)\n",
    "    axs[0].set_title(f'{category} colormaps', fontsize=14)\n",
    "\n",
    "    for ax, name in zip(axs, cmap_list):\n",
    "        ax.imshow(gradient, aspect='auto', cmap=plt.get_cmap(name))\n",
    "        ax.text(-0.01, 0.5, name, va='center', ha='right', fontsize=10,\n",
    "                transform=ax.transAxes)\n",
    "\n",
    "    # Turn off *all* ticks & spines, not just the ones with colormaps.\n",
    "    for ax in axs:\n",
    "        ax.set_axis_off()\n",
    "\n",
    "    # Save colormap list for later.\n",
    "    cmaps[category] = cmap_list"
   ]
  },
  {
   "cell_type": "code",
   "execution_count": 66,
   "metadata": {},
   "outputs": [
    {
     "data": {
      "image/png": "[encoded data removed]",
      "text/plain": [
       "<Figure size 576x360 with 2 Axes>"
      ]
     },
     "metadata": {
      "needs_background": "light"
     },
     "output_type": "display_data"
    }
   ],
   "source": [
    "fig, ax = plt.subplots(1, 1, figsize=(8, 5))\n",
    "ax = sns.heatmap(p[23].detach().cpu().numpy(), cmap=plt.get_cmap('RdYlGn'))\n",
    "ax.invert_yaxis()\n",
    "plt.show()"
   ]
  },
  {
   "cell_type": "code",
   "execution_count": null,
   "metadata": {},
   "outputs": [],
   "source": []
  }
 ],
 "metadata": {
  "kernelspec": {
   "display_name": "Python 3",
   "language": "python",
   "name": "python3"
  },
  "language_info": {
   "codemirror_mode": {
    "name": "ipython",
    "version": 3
   },
   "file_extension": ".py",
   "mimetype": "text/x-python",
   "name": "python",
   "nbconvert_exporter": "python",
   "pygments_lexer": "ipython3",
   "version": "3.6.15"
  },
  "orig_nbformat": 4
 },
 "nbformat": 4,
 "nbformat_minor": 2
}
