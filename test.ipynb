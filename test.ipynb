{
 "cells": [
  {
   "cell_type": "code",
   "execution_count": 1,
   "metadata": {},
   "outputs": [
    {
     "name": "stderr",
     "output_type": "stream",
     "text": [
      "c:\\Users\\user2\\Desktop\\master_degree\\research\\env_research\\lib\\site-packages\\tqdm\\auto.py:21: TqdmWarning: IProgress not found. Please update jupyter and ipywidgets. See https://ipywidgets.readthedocs.io/en/stable/user_install.html\n",
      "  from .autonotebook import tqdm as notebook_tqdm\n"
     ]
    }
   ],
   "source": [
    "import matplotlib.pyplot as plt \n",
    "import json\n",
    "import pickle\n",
    "import torch\n",
    "import random \n",
    "import numpy as np\n",
    "import os \n",
    "\n",
    "from torch.optim import SGD, Adam\n",
    "from torch.utils.data import DataLoader, random_split\n",
    "from torch.nn.functional import binary_cross_entropy\n",
    "from sklearn import metrics \n",
    "\n",
    "from data_loaders.assist2009 import ASSIST2009\n",
    "from data_loaders.assist2012 import ASSIST2012\n",
    "from data_loaders.ednet01 import EdNet01\n",
    "\n",
    "from models.dkvmn_text import SUBJ_DKVMN\n",
    "from models.dkvmn_text import train_model as plus_train\n",
    "\n",
    "from models.utils import collate_fn, collate_ednet, cal_acc_class\n",
    "\n",
    "%matplotlib inline\n",
    "\n",
    "seed = 1004\n",
    "\n",
    "random.seed(seed)\n",
    "np.random.seed(seed)\n",
    "torch.manual_seed(seed)\n",
    "torch.cuda.manual_seed_all(seed)\n",
    "\n",
    "device = \"cpu\"\n",
    "if torch.cuda.is_available():\n",
    "    device = \"cuda\""
   ]
  },
  {
   "cell_type": "code",
   "execution_count": 2,
   "metadata": {},
   "outputs": [],
   "source": [
    "model_name = 'dkvmn+'\n",
    "dataset_name = 'ASSIST2009'\n",
    "dataset = None\n",
    "ckpts = f\"ckpts/{model_name}/{dataset_name}/\"\n",
    "\n",
    "with open(\"config.json\") as f:\n",
    "    config = json.load(f)\n",
    "    model_config = config[model_name]\n",
    "    train_config = config[\"train_config\"]\n",
    "    \n",
    "batch_size = train_config[\"batch_size\"]\n",
    "num_epochs = train_config[\"num_epochs\"]\n",
    "train_ratio = train_config[\"train_ratio\"]\n",
    "learning_rate = train_config[\"learning_rate\"]\n",
    "optimizer = train_config[\"optimizer\"] # can be sgd, adam\n",
    "seq_len = train_config[\"seq_len\"] # 샘플링 할 갯수"
   ]
  },
  {
   "cell_type": "code",
   "execution_count": 3,
   "metadata": {},
   "outputs": [],
   "source": [
    "# 데이터셋 추가 가능\n",
    "collate_pt = collate_fn\n",
    "if dataset_name == \"ASSIST2009\":\n",
    "    dataset = ASSIST2009(seq_len, 'datasets/ASSIST2009/')\n",
    "elif dataset_name == \"ASSIST2012\":\n",
    "    dataset = ASSIST2012(seq_len, 'datasets/ASSIST2012/')"
   ]
  },
  {
   "cell_type": "code",
   "execution_count": 4,
   "metadata": {},
   "outputs": [],
   "source": [
    "def train_model(model, test_loader, ckpt_path):\n",
    "    '''\n",
    "        Args:\n",
    "            train_loader: the PyTorch DataLoader instance for training\n",
    "            test_loader: the PyTorch DataLoader instance for test\n",
    "            num_epochs: the number of epochs\n",
    "            opt: the optimization to train this model\n",
    "            ckpt_path: the path to save this model's parameters\n",
    "    '''\n",
    "    aucs = []\n",
    "    loss_means = []  \n",
    "    accs = []\n",
    "    q_accs = {}\n",
    "    \n",
    "    max_auc = 0\n",
    "    \n",
    "    # Test\n",
    "    model.load_state_dict(torch.load(os.path.join(ckpt_path, \"model.ckpt\"), map_location=device))\n",
    "    loss_mean = []\n",
    "    with torch.no_grad():\n",
    "        for i, data in enumerate(test_loader):\n",
    "            q, r, qshft_seqs, rshft_seqs, m, bert_s, bert_t, bert_m, q2diff_seqs, pid_seqs, pidshift, hint_seqs = data\n",
    "\n",
    "            model.eval()\n",
    "\n",
    "            y, Mv, w = model(q.long(), r.long(), bert_s, bert_t, bert_m, q2diff_seqs.long(), pid_seqs.long())\n",
    "\n",
    "            # y와 t 변수에 있는 행렬들에서 마스킹이 true로 된 값들만 불러옴\n",
    "            q = torch.masked_select(q, m).detach().cpu()\n",
    "            y = torch.masked_select(y, m).detach().cpu()\n",
    "            t = torch.masked_select(r, m).detach().cpu()\n",
    "\n",
    "            auc = metrics.roc_auc_score(\n",
    "                y_true=t.numpy(), y_score=y.numpy()\n",
    "            )\n",
    "            bin_y = [1 if p >= 0.5 else 0 for p in y.numpy()]\n",
    "            acc = metrics.accuracy_score(t.numpy(), bin_y)\n",
    "            loss = binary_cross_entropy(y, t) # 실제 y^T와 원핫 결합, 다음 answer 간 cross entropy\n",
    "\n",
    "            print(f\"[Test] number: {i}, AUC: {auc}, ACC: :{acc} Loss: {loss} \")\n",
    "\n",
    "            # evaluation metrics\n",
    "            aucs.append(auc)\n",
    "            loss_mean.append(loss)     \n",
    "            accs.append(acc)\n",
    "            q_accs, cnt = cal_acc_class(q.long(), t.long(), bin_y)\n",
    "            break\n",
    "        loss_means.append(np.mean(loss_mean))\n",
    "\n",
    "\n",
    "    return aucs, loss_means, accs, q_accs, cnt, Mv, w, q, t"
   ]
  },
  {
   "cell_type": "code",
   "execution_count": 5,
   "metadata": {},
   "outputs": [
    {
     "name": "stderr",
     "output_type": "stream",
     "text": [
      "Some weights of the model checkpoint at bert-base-uncased were not used when initializing BertModel: ['cls.predictions.bias', 'cls.predictions.decoder.weight', 'cls.seq_relationship.bias', 'cls.predictions.transform.dense.weight', 'cls.predictions.transform.LayerNorm.bias', 'cls.predictions.transform.LayerNorm.weight', 'cls.seq_relationship.weight', 'cls.predictions.transform.dense.bias']\n",
      "- This IS expected if you are initializing BertModel from the checkpoint of a model trained on another task or with another architecture (e.g. initializing a BertForSequenceClassification model from a BertForPreTraining model).\n",
      "- This IS NOT expected if you are initializing BertModel from the checkpoint of a model that you expect to be exactly identical (initializing a BertForSequenceClassification model from a BertForSequenceClassification model).\n"
     ]
    }
   ],
   "source": [
    "model = torch.nn.DataParallel(SUBJ_DKVMN(dataset.num_q, num_qid=dataset.num_pid, **model_config)).to(device)\n",
    "train_model = train_model"
   ]
  },
  {
   "cell_type": "code",
   "execution_count": 6,
   "metadata": {},
   "outputs": [],
   "source": [
    "# 데이터셋 분할\n",
    "data_size = len(dataset)\n",
    "train_size = int(data_size * train_ratio) \n",
    "valid_size = int(data_size * ((1.0 - train_ratio) / 2.0))\n",
    "test_size = data_size - train_size - valid_size\n",
    "\n",
    "train_dataset, valid_dataset, test_dataset = random_split(\n",
    "    dataset, [train_size, valid_size, test_size], generator=torch.Generator(device=device)\n",
    ")\n",
    "\n",
    "# pickle에 얼마만큼 분할했는지 읽기\n",
    "if os.path.exists(os.path.join(dataset.dataset_dir, \"train_indices.pkl\")):\n",
    "    with open(\n",
    "        os.path.join(dataset.dataset_dir, \"train_indices.pkl\"), \"rb\"\n",
    "    ) as f:\n",
    "        train_dataset.indices = pickle.load(f)\n",
    "    with open(\n",
    "        os.path.join(dataset.dataset_dir, \"valid_indicies.pkl\"), \"rb\"\n",
    "    ) as f:\n",
    "        valid_dataset.indices = pickle.load(f)\n",
    "    with open(\n",
    "        os.path.join(dataset.dataset_dir, \"test_indices.pkl\"), \"rb\"\n",
    "    ) as f:\n",
    "        test_dataset.indices = pickle.load(f)"
   ]
  },
  {
   "cell_type": "code",
   "execution_count": 7,
   "metadata": {},
   "outputs": [
    {
     "name": "stdout",
     "output_type": "stream",
     "text": [
      "[Test] number: 0, AUC: 0.9681324808848354, ACC: :0.9289991445680068 Loss: 0.18885724246501923 \n"
     ]
    }
   ],
   "source": [
    "train_loader = DataLoader(\n",
    "    train_dataset, batch_size=batch_size, shuffle=True,\n",
    "    collate_fn=collate_pt, generator=torch.Generator(device=device)\n",
    ")\n",
    "valid_loader = DataLoader(\n",
    "    valid_dataset, batch_size=batch_size, shuffle=True,\n",
    "    collate_fn=collate_pt, generator=torch.Generator(device=device)\n",
    ")\n",
    "test_loader = DataLoader(\n",
    "    test_dataset, batch_size=batch_size, shuffle=True,\n",
    "    collate_fn=collate_pt, generator=torch.Generator(device=device)\n",
    ")\n",
    "\n",
    "if optimizer == \"sgd\":\n",
    "    opt = SGD(model.parameters(), learning_rate, momentum=0.9)\n",
    "elif optimizer == \"adam\":\n",
    "    opt = Adam(model.parameters(), learning_rate)\n",
    "lr_scheduler = torch.optim.lr_scheduler.ExponentialLR(opt, gamma=0.5)\n",
    "opt.lr_scheduler = lr_scheduler\n",
    "\n",
    "# 모델에서 미리 정의한 함수로 AUCS와 LOSS 계산    \n",
    "aucs, loss_means, accs, q_accs, q_cnts, Mv, w, q, t = \\\n",
    "    train_model(\n",
    "        model, test_loader, ckpts\n",
    "    )"
   ]
  },
  {
   "cell_type": "code",
   "execution_count": 10,
   "metadata": {},
   "outputs": [
    {
     "name": "stdout",
     "output_type": "stream",
     "text": [
      "tensor([102.])\n"
     ]
    }
   ],
   "source": [
    "print(q[q==102])"
   ]
  },
  {
   "cell_type": "code",
   "execution_count": 8,
   "metadata": {},
   "outputs": [
    {
     "name": "stdout",
     "output_type": "stream",
     "text": [
      "torch.Size([24, 100, 110, 100])\n",
      "torch.Size([24, 100, 110, 100]) torch.Size([24, 100, 110, 100])\n",
      "torch.Size([24, 100, 110])\n",
      "tensor([[[7.4598e-01, 9.1893e-01, 6.0704e-01,  ..., 1.5119e-01,\n",
      "          2.2372e-01, 1.2434e-01],\n",
      "         [7.4566e-01, 9.1871e-01, 6.0681e-01,  ..., 1.5112e-01,\n",
      "          2.2367e-01, 1.2428e-01],\n",
      "         [7.4610e-01, 9.1890e-01, 6.0723e-01,  ..., 1.5151e-01,\n",
      "          2.2385e-01, 1.2466e-01],\n",
      "         ...,\n",
      "         [6.9112e-01, 8.8167e-01, 5.6687e-01,  ..., 1.3425e-01,\n",
      "          2.1315e-01, 1.0874e-01],\n",
      "         [6.9021e-01, 8.8102e-01, 5.6621e-01,  ..., 1.3394e-01,\n",
      "          2.1296e-01, 1.0845e-01],\n",
      "         [6.8945e-01, 8.8046e-01, 5.6566e-01,  ..., 1.3369e-01,\n",
      "          2.1281e-01, 1.0823e-01]],\n",
      "\n",
      "        [[7.4598e-01, 9.1893e-01, 6.0704e-01,  ..., 1.5119e-01,\n",
      "          2.2372e-01, 1.2434e-01],\n",
      "         [7.4778e-01, 9.2010e-01, 6.0802e-01,  ..., 1.5127e-01,\n",
      "          2.2398e-01, 1.2465e-01],\n",
      "         [7.5031e-01, 9.2176e-01, 6.0937e-01,  ..., 1.5138e-01,\n",
      "          2.2433e-01, 1.2506e-01],\n",
      "         ...,\n",
      "         [6.9982e-01, 8.8633e-01, 5.7225e-01,  ..., 1.3420e-01,\n",
      "          2.1448e-01, 1.0986e-01],\n",
      "         [6.9926e-01, 8.8591e-01, 5.7185e-01,  ..., 1.3405e-01,\n",
      "          2.1438e-01, 1.0972e-01],\n",
      "         [6.9846e-01, 8.8534e-01, 5.7127e-01,  ..., 1.3379e-01,\n",
      "          2.1422e-01, 1.0947e-01]],\n",
      "\n",
      "        [[7.4598e-01, 9.1893e-01, 6.0704e-01,  ..., 1.5119e-01,\n",
      "          2.2372e-01, 1.2434e-01],\n",
      "         [7.4592e-01, 9.1886e-01, 6.0707e-01,  ..., 1.5133e-01,\n",
      "          2.2395e-01, 1.2444e-01],\n",
      "         [7.4437e-01, 9.1825e-01, 6.0489e-01,  ..., 1.5071e-01,\n",
      "          2.2233e-01, 1.2400e-01],\n",
      "         ...,\n",
      "         [3.5392e-01, 8.8014e-01, 5.5796e-01,  ..., 1.3401e-01,\n",
      "          2.0802e-01, 1.0728e-01],\n",
      "         [3.5326e-01, 8.7958e-01, 5.5742e-01,  ..., 1.3378e-01,\n",
      "          2.0788e-01, 1.0706e-01],\n",
      "         [3.5257e-01, 8.7900e-01, 5.5685e-01,  ..., 1.3352e-01,\n",
      "          2.0773e-01, 1.0683e-01]],\n",
      "\n",
      "        ...,\n",
      "\n",
      "        [[7.4598e-01, 9.1893e-01, 6.0704e-01,  ..., 1.5119e-01,\n",
      "          2.2372e-01, 1.2434e-01],\n",
      "         [7.3846e-01, 9.1863e-01, 5.8873e-01,  ..., 1.5017e-01,\n",
      "          2.1874e-01, 1.2304e-01],\n",
      "         [7.3509e-01, 9.1840e-01, 4.9353e-01,  ..., 1.4988e-01,\n",
      "          2.1781e-01, 1.2254e-01],\n",
      "         ...,\n",
      "         [9.7134e-01, 9.3699e-01, 7.1522e-01,  ..., 2.4031e-01,\n",
      "          3.1998e-01, 1.6526e-01],\n",
      "         [9.7111e-01, 9.3666e-01, 7.1357e-01,  ..., 2.3977e-01,\n",
      "          3.1897e-01, 1.6503e-01],\n",
      "         [9.7112e-01, 9.3667e-01, 7.1389e-01,  ..., 2.3999e-01,\n",
      "          3.1930e-01, 1.6514e-01]],\n",
      "\n",
      "        [[7.4598e-01, 9.1893e-01, 6.0704e-01,  ..., 1.5119e-01,\n",
      "          2.2372e-01, 1.2434e-01],\n",
      "         [7.4602e-01, 9.1894e-01, 6.0713e-01,  ..., 1.5153e-01,\n",
      "          2.2374e-01, 1.2438e-01],\n",
      "         [7.4619e-01, 9.1896e-01, 6.0764e-01,  ..., 1.5169e-01,\n",
      "          2.2412e-01, 1.2455e-01],\n",
      "         ...,\n",
      "         [8.3937e-01, 9.2854e-01, 6.7557e-01,  ..., 1.8860e-01,\n",
      "          3.5770e-01, 1.4537e-01],\n",
      "         [1.1284e-04, 9.2686e-01, 6.7425e-01,  ..., 1.8499e-01,\n",
      "          3.5269e-01, 1.4526e-01],\n",
      "         [9.9969e-01, 9.2796e-01, 6.7533e-01,  ..., 1.8905e-01,\n",
      "          3.5756e-01, 1.4539e-01]],\n",
      "\n",
      "        [[7.4598e-01, 9.1893e-01, 6.0704e-01,  ..., 1.5119e-01,\n",
      "          2.2372e-01, 1.2434e-01],\n",
      "         [7.4536e-01, 9.1855e-01, 6.0655e-01,  ..., 1.5095e-01,\n",
      "          2.2358e-01, 1.2411e-01],\n",
      "         [7.4471e-01, 9.1817e-01, 6.0605e-01,  ..., 1.5070e-01,\n",
      "          2.2343e-01, 1.2388e-01],\n",
      "         ...,\n",
      "         [6.8318e-01, 8.7649e-01, 5.6072e-01,  ..., 1.3061e-01,\n",
      "          2.1110e-01, 1.0533e-01],\n",
      "         [6.8252e-01, 8.7599e-01, 5.6026e-01,  ..., 1.3043e-01,\n",
      "          2.1098e-01, 1.0517e-01],\n",
      "         [6.8193e-01, 8.7553e-01, 5.5984e-01,  ..., 1.3027e-01,\n",
      "          2.1087e-01, 1.0502e-01]]], grad_fn=<SqueezeBackward1>)\n"
     ]
    }
   ],
   "source": [
    "# 모든 W값에 대한 빈 텐서를 생성\n",
    "# 마지막 layer 빼서 넘겨보기\n",
    "\n",
    "# Read Process = w * M\n",
    "# 그래서 R 값은 마스크한 형태이고, W값은 마스킹 한 쪽에 0값 달라는 얘기인 것 같음\n",
    "# 그럼 결론적으로 메모리만 들어가면 됨\n",
    "# input embedding 의 weight값에 마스킹 -> 문제 정보 이그노어\n",
    "# 1. R => memory로 그대로 사용\n",
    "# 2. Input Embedding (key embedding) 값 마스킹\n",
    "# 3. Linear 레이어에 통과 => 이게 concept state가 될거라고 함..\n",
    "# Memory \n",
    "\n",
    "knowledge_state = []\n",
    "# 1. 기존식의 Read content => memory value로 그대로 사용\n",
    "r = Mv[:, :-1]\n",
    "print(r.shape)\n",
    "\n",
    "# 2. 컨셉별 Key Embedding 값 마스킹\n",
    "rm = torch.zeros_like(r)\n",
    "\n",
    "print(r.shape, rm.shape,)\n",
    "\n",
    "# 3. Linear 레이어에 통과\n",
    "f = torch.tanh(\n",
    "    model.module.f_layer(\n",
    "    torch.cat(\n",
    "        [\n",
    "            r, # 하나 생성했으므로 마지막이 아닌 마지막 전의 110개의 컨셉들을 다 더해줌.\n",
    "            rm\n",
    "        ],\n",
    "        dim=-1\n",
    "    )\n",
    "    )\n",
    ")\n",
    "\n",
    "# 그 후 예측값 뱉기\n",
    "p = model.module.p_layer(model.module.dropout_layer(f))\n",
    "\n",
    "p = torch.sigmoid(p)\n",
    "p = p.squeeze(-1)\n",
    "print(p.shape)\n",
    "print(p)"
   ]
  },
  {
   "cell_type": "code",
   "execution_count": 33,
   "metadata": {},
   "outputs": [
    {
     "name": "stdout",
     "output_type": "stream",
     "text": [
      "torch.Size([1, 1169]) torch.Size([1169])\n"
     ]
    },
    {
     "data": {
      "image/png": "[encoded data removed]",
      "text/plain": [
       "<Figure size 432x288 with 2 Axes>"
      ]
     },
     "metadata": {
      "needs_background": "light"
     },
     "output_type": "display_data"
    }
   ],
   "source": [
    "import seaborn as sns # 히트맵 사용\n",
    "# import matplotlib.\n",
    "import matplotlib.pyplot as plt\n",
    "\n",
    "qe = q.repeat(1, 1)\n",
    "sns.heatmap(qe.detach().cpu().numpy().T)\n",
    "print(qe.shape, q.shape)"
   ]
  },
  {
   "cell_type": "code",
   "execution_count": 18,
   "metadata": {},
   "outputs": [
    {
     "data": {
      "image/png": "[encoded data removed]",
      "text/plain": [
       "<Figure size 1080x1080 with 2 Axes>"
      ]
     },
     "metadata": {
      "needs_background": "light"
     },
     "output_type": "display_data"
    }
   ],
   "source": [
    "fig, ax = plt.subplots(1, 1, figsize=(15, 15))\n",
    "ax = sns.heatmap(p[0].detach().cpu().numpy().T, cmap=plt.get_cmap('RdYlGn'))\n",
    "ax.invert_yaxis()\n",
    "plt.ylabel('memory_slot(concept)', fontsize=15)\n",
    "plt.xlabel('exercise_sequence', fontsize=15)\n",
    "plt.show()"
   ]
  },
  {
   "cell_type": "code",
   "execution_count": null,
   "metadata": {},
   "outputs": [],
   "source": []
  }
 ],
 "metadata": {
  "kernelspec": {
   "display_name": "Python 3",
   "language": "python",
   "name": "python3"
  },
  "language_info": {
   "codemirror_mode": {
    "name": "ipython",
    "version": 3
   },
   "file_extension": ".py",
   "mimetype": "text/x-python",
   "name": "python",
   "nbconvert_exporter": "python",
   "pygments_lexer": "ipython3",
   "version": "3.6.15"
  },
  "orig_nbformat": 4
 },
 "nbformat": 4,
 "nbformat_minor": 2
}
