{
 "cells": [
  {
   "cell_type": "code",
   "execution_count": 1,
   "metadata": {},
   "outputs": [
    {
     "name": "stderr",
     "output_type": "stream",
     "text": [
      "c:\\Users\\user2\\Desktop\\master_degree\\research\\env_research\\lib\\site-packages\\tqdm\\auto.py:21: TqdmWarning: IProgress not found. Please update jupyter and ipywidgets. See https://ipywidgets.readthedocs.io/en/stable/user_install.html\n",
      "  from .autonotebook import tqdm as notebook_tqdm\n"
     ]
    }
   ],
   "source": [
    "import matplotlib.pyplot as plt \n",
    "import json\n",
    "import pickle\n",
    "import torch\n",
    "import random \n",
    "import numpy as np\n",
    "import os \n",
    "\n",
    "from torch.optim import SGD, Adam\n",
    "from torch.utils.data import DataLoader, random_split\n",
    "from torch.nn.functional import binary_cross_entropy\n",
    "from sklearn import metrics \n",
    "\n",
    "from data_loaders.assist2009 import ASSIST2009\n",
    "from data_loaders.assist2012 import ASSIST2012\n",
    "from data_loaders.ednet01 import EdNet01\n",
    "\n",
    "from models.dkvmn_text import SUBJ_DKVMN\n",
    "from models.dkvmn_text import train_model as plus_train\n",
    "\n",
    "from models.utils import collate_fn, collate_ednet, cal_acc_class\n",
    "\n",
    "%matplotlib inline\n",
    "\n",
    "seed = 42\n",
    "\n",
    "random.seed(seed)\n",
    "np.random.seed(seed)\n",
    "torch.manual_seed(seed)\n",
    "torch.cuda.manual_seed_all(seed)\n",
    "\n",
    "device = \"cpu\"\n",
    "if torch.cuda.is_available():\n",
    "    device = \"cuda\""
   ]
  },
  {
   "cell_type": "code",
   "execution_count": 2,
   "metadata": {},
   "outputs": [],
   "source": [
    "model_name = 'dkvmn+'\n",
    "dataset_name = 'ASSIST2009'\n",
    "dataset = None\n",
    "ckpts = f\"ckpts/{model_name}2009-performance/{dataset_name}/\"\n",
    "\n",
    "with open(\"config.json\") as f:\n",
    "    config = json.load(f)\n",
    "    model_config = config[model_name]\n",
    "    train_config = config[\"train_config\"]\n",
    "    \n",
    "batch_size = train_config[\"batch_size\"]\n",
    "num_epochs = train_config[\"num_epochs\"]\n",
    "train_ratio = train_config[\"train_ratio\"]\n",
    "learning_rate = train_config[\"learning_rate\"]\n",
    "optimizer = train_config[\"optimizer\"] # can be sgd, adam\n",
    "seq_len = train_config[\"seq_len\"] # 샘플링 할 갯수"
   ]
  },
  {
   "cell_type": "code",
   "execution_count": 3,
   "metadata": {},
   "outputs": [],
   "source": [
    "# 데이터셋 추가 가능\n",
    "collate_pt = collate_fn\n",
    "if dataset_name == \"ASSIST2009\":\n",
    "    dataset = ASSIST2009(seq_len, 'datasets/ASSIST2009/')\n",
    "elif dataset_name == \"ASSIST2012\":\n",
    "    dataset = ASSIST2012(seq_len, 'datasets/ASSIST2012/')"
   ]
  },
  {
   "cell_type": "code",
   "execution_count": 4,
   "metadata": {},
   "outputs": [],
   "source": [
    "def train_model(model, test_loader, ckpt_path):\n",
    "    '''\n",
    "        Args:\n",
    "            train_loader: the PyTorch DataLoader instance for training\n",
    "            test_loader: the PyTorch DataLoader instance for test\n",
    "            num_epochs: the number of epochs\n",
    "            opt: the optimization to train this model\n",
    "            ckpt_path: the path to save this model's parameters\n",
    "    '''\n",
    "    aucs = []\n",
    "    loss_means = []  \n",
    "    accs = []\n",
    "    q_accs = {}\n",
    "    \n",
    "    max_auc = 0\n",
    "    \n",
    "    # Test\n",
    "    model.load_state_dict(torch.load(os.path.join(ckpt_path, \"model.ckpt\"), map_location=device))\n",
    "    loss_mean = []\n",
    "    with torch.no_grad():\n",
    "        for i, data in enumerate(test_loader):\n",
    "            q, r, qshft_seqs, rshft_seqs, m, bert_s, bert_t, bert_m, q2diff_seqs, pid_seqs, pidshift, hint_seqs = data\n",
    "\n",
    "            model.eval()\n",
    "\n",
    "            y, Mv, w = model(q.long(), r.long(), bert_s, bert_t, bert_m, q2diff_seqs.long(), pid_seqs.long())\n",
    "\n",
    "            # y와 t 변수에 있는 행렬들에서 마스킹이 true로 된 값들만 불러옴\n",
    "            q = torch.masked_select(q, m).detach().cpu()\n",
    "            y = torch.masked_select(y, m).detach().cpu()\n",
    "            t = torch.masked_select(r, m).detach().cpu()\n",
    "\n",
    "            auc = metrics.roc_auc_score(\n",
    "                y_true=t.numpy(), y_score=y.numpy()\n",
    "            )\n",
    "            bin_y = [1 if p >= 0.5 else 0 for p in y.numpy()]\n",
    "            acc = metrics.accuracy_score(t.numpy(), bin_y)\n",
    "            loss = binary_cross_entropy(y, t) # 실제 y^T와 원핫 결합, 다음 answer 간 cross entropy\n",
    "\n",
    "            print(f\"[Test] number: {i}, AUC: {auc}, ACC: :{acc} Loss: {loss} \")\n",
    "\n",
    "            # evaluation metrics\n",
    "            aucs.append(auc)\n",
    "            loss_mean.append(loss)     \n",
    "            accs.append(acc)\n",
    "            q_accs, cnt = cal_acc_class(q.long(), t.long(), bin_y)\n",
    "            break\n",
    "        loss_means.append(np.mean(loss_mean))\n",
    "\n",
    "\n",
    "    return aucs, loss_means, accs, q_accs, cnt, Mv, w, q, t"
   ]
  },
  {
   "cell_type": "code",
   "execution_count": 5,
   "metadata": {},
   "outputs": [
    {
     "name": "stderr",
     "output_type": "stream",
     "text": [
      "Some weights of the model checkpoint at bert-base-uncased were not used when initializing BertModel: ['cls.predictions.transform.dense.bias', 'cls.predictions.bias', 'cls.predictions.decoder.weight', 'cls.predictions.transform.dense.weight', 'cls.predictions.transform.LayerNorm.weight', 'cls.seq_relationship.bias', 'cls.predictions.transform.LayerNorm.bias', 'cls.seq_relationship.weight']\n",
      "- This IS expected if you are initializing BertModel from the checkpoint of a model trained on another task or with another architecture (e.g. initializing a BertForSequenceClassification model from a BertForPreTraining model).\n",
      "- This IS NOT expected if you are initializing BertModel from the checkpoint of a model that you expect to be exactly identical (initializing a BertForSequenceClassification model from a BertForSequenceClassification model).\n"
     ]
    }
   ],
   "source": [
    "model = torch.nn.DataParallel(SUBJ_DKVMN(dataset.num_q, num_qid=dataset.num_pid, **model_config)).to(device)\n",
    "train_model = train_model"
   ]
  },
  {
   "cell_type": "code",
   "execution_count": 6,
   "metadata": {},
   "outputs": [],
   "source": [
    "# 데이터셋 분할\n",
    "data_size = len(dataset)\n",
    "train_size = int(data_size * train_ratio) \n",
    "valid_size = int(data_size * ((1.0 - train_ratio) / 2.0))\n",
    "test_size = data_size - train_size - valid_size\n",
    "\n",
    "train_dataset, valid_dataset, test_dataset = random_split(\n",
    "    dataset, [train_size, valid_size, test_size], generator=torch.Generator(device=device)\n",
    ")\n",
    "\n",
    "# pickle에 얼마만큼 분할했는지 읽기\n",
    "if os.path.exists(os.path.join(dataset.dataset_dir, \"train_indices.pkl\")):\n",
    "    with open(\n",
    "        os.path.join(dataset.dataset_dir, \"train_indices.pkl\"), \"rb\"\n",
    "    ) as f:\n",
    "        train_dataset.indices = pickle.load(f)\n",
    "    with open(\n",
    "        os.path.join(dataset.dataset_dir, \"valid_indicies.pkl\"), \"rb\"\n",
    "    ) as f:\n",
    "        valid_dataset.indices = pickle.load(f)\n",
    "    with open(\n",
    "        os.path.join(dataset.dataset_dir, \"test_indices.pkl\"), \"rb\"\n",
    "    ) as f:\n",
    "        test_dataset.indices = pickle.load(f)"
   ]
  },
  {
   "cell_type": "code",
   "execution_count": 7,
   "metadata": {},
   "outputs": [
    {
     "name": "stdout",
     "output_type": "stream",
     "text": [
      "[Test] number: 0, AUC: 0.9900136213271062, ACC: :0.9635678391959799 Loss: 0.11606048047542572 \n"
     ]
    }
   ],
   "source": [
    "train_loader = DataLoader(\n",
    "    train_dataset, batch_size=batch_size, shuffle=True,\n",
    "    collate_fn=collate_pt, generator=torch.Generator(device=device)\n",
    ")\n",
    "valid_loader = DataLoader(\n",
    "    valid_dataset, batch_size=batch_size, shuffle=True,\n",
    "    collate_fn=collate_pt, generator=torch.Generator(device=device)\n",
    ")\n",
    "test_loader = DataLoader(\n",
    "    test_dataset, batch_size=batch_size, shuffle=True,\n",
    "    collate_fn=collate_pt, generator=torch.Generator(device=device)\n",
    ")\n",
    "\n",
    "if optimizer == \"sgd\":\n",
    "    opt = SGD(model.parameters(), learning_rate, momentum=0.9)\n",
    "elif optimizer == \"adam\":\n",
    "    opt = Adam(model.parameters(), learning_rate)\n",
    "lr_scheduler = torch.optim.lr_scheduler.ExponentialLR(opt, gamma=0.5)\n",
    "opt.lr_scheduler = lr_scheduler\n",
    "\n",
    "# 모델에서 미리 정의한 함수로 AUCS와 LOSS 계산    \n",
    "aucs, loss_means, accs, q_accs, q_cnts, Mv, w, q, t = \\\n",
    "    train_model(\n",
    "        model, test_loader, ckpts\n",
    "    )"
   ]
  },
  {
   "cell_type": "code",
   "execution_count": 8,
   "metadata": {},
   "outputs": [
    {
     "name": "stdout",
     "output_type": "stream",
     "text": [
      "tensor([102., 102., 102., 102., 102., 102., 102., 102., 102., 102., 102., 102.,\n",
      "        102., 102., 102., 102., 102., 102., 102.])\n"
     ]
    }
   ],
   "source": [
    "print(q[q==102])"
   ]
  },
  {
   "cell_type": "code",
   "execution_count": 9,
   "metadata": {},
   "outputs": [
    {
     "name": "stdout",
     "output_type": "stream",
     "text": [
      "torch.Size([24, 50, 20, 50])\n",
      "torch.Size([24, 50, 20, 50]) torch.Size([24, 50, 20, 50])\n",
      "torch.Size([24, 50, 20])\n",
      "tensor([[[0.5178, 0.6106, 0.6209,  ..., 0.0639, 0.3735, 0.9146],\n",
      "         [0.6049, 0.7447, 0.7734,  ..., 0.1550, 0.4604, 0.9372],\n",
      "         [0.5989, 0.7301, 0.7578,  ..., 0.1621, 0.4576, 0.9321],\n",
      "         ...,\n",
      "         [0.3048, 0.1434, 0.2202,  ..., 0.0690, 0.3568, 0.8492],\n",
      "         [0.3676, 0.1605, 0.2965,  ..., 0.0805, 0.4022, 0.8835],\n",
      "         [0.4500, 0.1833, 0.4055,  ..., 0.0966, 0.4595, 0.9163]],\n",
      "\n",
      "        [[0.5178, 0.6106, 0.6209,  ..., 0.0639, 0.3735, 0.9146],\n",
      "         [0.5379, 0.6859, 0.6691,  ..., 0.0771, 0.4539, 0.9173],\n",
      "         [0.5514, 0.7302, 0.6991,  ..., 0.0881, 0.5097, 0.9189],\n",
      "         ...,\n",
      "         [0.0251, 0.0389, 0.2867,  ..., 0.0061, 0.0186, 0.8623],\n",
      "         [0.0217, 0.0337, 0.2711,  ..., 0.0053, 0.0160, 0.8585],\n",
      "         [0.0152, 0.0240, 0.2397,  ..., 0.0037, 0.0109, 0.8509]],\n",
      "\n",
      "        [[0.5178, 0.6106, 0.6209,  ..., 0.0639, 0.3735, 0.9146],\n",
      "         [0.5444, 0.7107, 0.6786,  ..., 0.0738, 0.4431, 0.9156],\n",
      "         [0.4873, 0.4705, 0.5446,  ..., 0.0578, 0.3073, 0.9128],\n",
      "         ...,\n",
      "         [0.3960, 0.6450, 0.6999,  ..., 0.0574, 0.4061, 0.8815],\n",
      "         [0.3269, 0.5759, 0.6735,  ..., 0.0433, 0.3297, 0.8768],\n",
      "         [0.2491, 0.4847, 0.6385,  ..., 0.0299, 0.2447, 0.8708]],\n",
      "\n",
      "        ...,\n",
      "\n",
      "        [[0.5178, 0.6106, 0.6209,  ..., 0.0639, 0.3735, 0.9146],\n",
      "         [0.5221, 0.6135, 0.6547,  ..., 0.0733, 0.3998, 0.9221],\n",
      "         [0.5865, 0.6680, 0.6766,  ..., 0.0999, 0.4721, 0.9241],\n",
      "         ...,\n",
      "         [0.0805, 0.1529, 0.4180,  ..., 0.0186, 0.0527, 0.8854],\n",
      "         [0.0618, 0.1201, 0.3878,  ..., 0.0140, 0.0395, 0.8806],\n",
      "         [0.0474, 0.0939, 0.3585,  ..., 0.0106, 0.0297, 0.8756]],\n",
      "\n",
      "        [[0.5178, 0.6106, 0.6209,  ..., 0.0639, 0.3735, 0.9146],\n",
      "         [0.5726, 0.6200, 0.6591,  ..., 0.0774, 0.3939, 0.9219],\n",
      "         [0.6479, 0.6307, 0.6702,  ..., 0.0956, 0.4524, 0.9303],\n",
      "         ...,\n",
      "         [0.6675, 0.6483, 0.8373,  ..., 0.2369, 0.6630, 0.9489],\n",
      "         [0.6251, 0.6073, 0.7664,  ..., 0.1988, 0.5989, 0.8137],\n",
      "         [0.6202, 0.6021, 0.7627,  ..., 0.1948, 0.5946, 0.8082]],\n",
      "\n",
      "        [[0.5178, 0.6106, 0.6209,  ..., 0.0639, 0.3735, 0.9146],\n",
      "         [0.5662, 0.6410, 0.6941,  ..., 0.0769, 0.4526, 0.9179],\n",
      "         [0.6516, 0.6749, 0.7100,  ..., 0.1067, 0.5256, 0.9287],\n",
      "         ...,\n",
      "         [0.9995, 0.9704, 0.9997,  ..., 0.8812, 0.8299, 0.9995],\n",
      "         [1.0000, 0.9731, 0.9997,  ..., 0.8953, 0.8838, 0.9996],\n",
      "         [1.0000, 0.9751, 0.9997,  ..., 0.9055, 0.9151, 0.9996]]],\n",
      "       grad_fn=<SqueezeBackward1>)\n"
     ]
    }
   ],
   "source": [
    "# 모든 W값에 대한 빈 텐서를 생성\n",
    "# 마지막 layer 빼서 넘겨보기\n",
    "\n",
    "# Read Process = w * M\n",
    "# 그래서 R 값은 마스크한 형태이고, W값은 마스킹 한 쪽에 0값 달라는 얘기인 것 같음\n",
    "# 그럼 결론적으로 메모리만 들어가면 됨\n",
    "# input embedding 의 weight값에 마스킹 -> 문제 정보 이그노어\n",
    "# 1. R => memory로 그대로 사용\n",
    "# 2. Input Embedding (key embedding) 값 마스킹\n",
    "# 3. Linear 레이어에 통과 => 이게 concept state가 될거라고 함..\n",
    "# Memory \n",
    "\n",
    "knowledge_state = []\n",
    "# 1. 기존식의 Read content => memory value로 그대로 사용\n",
    "r = Mv[:, :-1]\n",
    "print(r.shape)\n",
    "\n",
    "# 2. 컨셉별 Key Embedding 값 마스킹\n",
    "rm = torch.zeros_like(r)\n",
    "\n",
    "print(r.shape, rm.shape,)\n",
    "\n",
    "# 3. Linear 레이어에 통과\n",
    "f = torch.tanh(\n",
    "    model.module.f_layer(\n",
    "    torch.cat(\n",
    "        [\n",
    "            r, # 하나 생성했으므로 마지막이 아닌 마지막 전의 110개의 컨셉들을 다 더해줌.\n",
    "            rm\n",
    "        ],\n",
    "        dim=-1\n",
    "    )\n",
    "    )\n",
    ")\n",
    "\n",
    "# 그 후 예측값 뱉기\n",
    "p = model.module.p_layer(model.module.dropout_layer(f))\n",
    "\n",
    "p = torch.sigmoid(p)\n",
    "p = p.squeeze(-1)\n",
    "print(p.shape)\n",
    "print(p)"
   ]
  },
  {
   "cell_type": "code",
   "execution_count": 10,
   "metadata": {},
   "outputs": [
    {
     "name": "stdout",
     "output_type": "stream",
     "text": [
      "torch.Size([1, 796]) torch.Size([796])\n"
     ]
    },
    {
     "data": {
      "image/png": "[encoded data removed]",
      "text/plain": [
       "<Figure size 432x288 with 2 Axes>"
      ]
     },
     "metadata": {
      "needs_background": "light"
     },
     "output_type": "display_data"
    }
   ],
   "source": [
    "import seaborn as sns # 히트맵 사용\n",
    "# import matplotlib.\n",
    "import matplotlib.pyplot as plt\n",
    "\n",
    "qe = q.repeat(1, 1)\n",
    "sns.heatmap(qe.detach().cpu().numpy().T)\n",
    "print(qe.shape, q.shape)"
   ]
  },
  {
   "cell_type": "code",
   "execution_count": 11,
   "metadata": {},
   "outputs": [
    {
     "data": {
      "image/png": "[encoded data removed]",
      "text/plain": [
       "<Figure size 1080x1080 with 2 Axes>"
      ]
     },
     "metadata": {
      "needs_background": "light"
     },
     "output_type": "display_data"
    }
   ],
   "source": [
    "fig, ax = plt.subplots(1, 1, figsize=(15, 15))\n",
    "ax = sns.heatmap(p[0].detach().cpu().numpy().T, cmap=plt.get_cmap('RdYlGn'))\n",
    "ax.invert_yaxis()\n",
    "plt.ylabel('memory_slot(concept)', fontsize=15)\n",
    "plt.xlabel('exercise_sequence', fontsize=15)\n",
    "plt.show()"
   ]
  },
  {
   "cell_type": "code",
   "execution_count": null,
   "metadata": {},
   "outputs": [],
   "source": []
  }
 ],
 "metadata": {
  "kernelspec": {
   "display_name": "Python 3",
   "language": "python",
   "name": "python3"
  },
  "language_info": {
   "codemirror_mode": {
    "name": "ipython",
    "version": 3
   },
   "file_extension": ".py",
   "mimetype": "text/x-python",
   "name": "python",
   "nbconvert_exporter": "python",
   "pygments_lexer": "ipython3",
   "version": "3.6.15"
  },
  "orig_nbformat": 4
 },
 "nbformat": 4,
 "nbformat_minor": 2
}
