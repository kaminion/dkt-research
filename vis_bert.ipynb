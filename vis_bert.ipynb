{
 "cells": [
  {
   "cell_type": "code",
   "execution_count": 1,
   "metadata": {},
   "outputs": [
    {
     "name": "stderr",
     "output_type": "stream",
     "text": [
      "c:\\Users\\user2\\Desktop\\master_degree\\research\\env_research\\lib\\site-packages\\tqdm\\auto.py:21: TqdmWarning: IProgress not found. Please update jupyter and ipywidgets. See https://ipywidgets.readthedocs.io/en/stable/user_install.html\n",
      "  from .autonotebook import tqdm as notebook_tqdm\n"
     ]
    }
   ],
   "source": [
    "# interpreting BERT Models with Captum library\n",
    "import os\n",
    "import json\n",
    "import numpy as np\n",
    "import pandas as pd\n",
    "import seaborn as sns \n",
    "import matplotlib.pyplot as plt \n",
    "\n",
    "import torch \n",
    "import torch.nn as nn\n",
    "from torch.utils.data import DataLoader, random_split\n",
    "\n",
    "from transformers import DistilBertTokenizer\n",
    "\n",
    "from captum.attr import visualization as viz\n",
    "from captum.attr import LayerConductance, LayerIntegratedGradients"
   ]
  },
  {
   "cell_type": "code",
   "execution_count": 2,
   "metadata": {},
   "outputs": [],
   "source": [
    "# module\n",
    "from models.dkvmn_text import SUBJ_DKVMN\n",
    "\n",
    "from data_loaders.assist2009 import ASSIST2009\n",
    "from data_loaders.assist2012 import ASSIST2012\n",
    "from models.utils import collate_fn"
   ]
  },
  {
   "cell_type": "code",
   "execution_count": 3,
   "metadata": {},
   "outputs": [],
   "source": [
    "# load config\n",
    "model_name = \"dkvmn+\"\n",
    "device = \"cpu\"\n",
    "if torch.cuda.is_available():\n",
    "    device = \"cuda\"\n",
    "dataset_name = \"ASSIST2009\"\n",
    "seq_len = 200\n",
    "\n",
    "ckpts = f\"ckpts/{model_name}2009-performance/{dataset_name}/\"\n",
    "\n",
    "with open(\"config.json\") as f:\n",
    "    config = json.load(f)\n",
    "    model_config = config[model_name]\n",
    "    train_config = config[\"train_config\"]\n",
    "    \n",
    "batch_size = train_config[\"batch_size\"]\n",
    "num_epochs = train_config[\"num_epochs\"]\n",
    "train_ratio = train_config[\"train_ratio\"]\n",
    "learning_rate = train_config[\"learning_rate\"]\n",
    "optimizer = train_config[\"optimizer\"] # can be sgd, adam\n",
    "seq_len = train_config[\"seq_len\"] # 샘플링 할 갯수"
   ]
  },
  {
   "cell_type": "code",
   "execution_count": 4,
   "metadata": {},
   "outputs": [],
   "source": [
    "from torch.nn.utils.rnn import pad_sequence\n",
    "\n",
    "if torch.cuda.is_available():\n",
    "    from torch.cuda import FloatTensor, CharTensor, LongTensor\n",
    "    torch.set_default_tensor_type(torch.cuda.FloatTensor)\n",
    "else:\n",
    "    from torch import FloatTensor, CharTensor, LongTensor\n",
    "\n",
    "\n",
    "# custom collate function\n",
    "def custom_collate(batch, pad_val=-1):\n",
    "    '''\n",
    "    This function for torch.utils.data.DataLoader\n",
    "\n",
    "    Returns:\n",
    "        q_seqs: the question(KC) sequences with the size of \\\n",
    "            [batch_size, maximum_sequence_length_in_the_batch]\n",
    "        r_seqs: the response sequences with the size of \\\n",
    "            [batch_size, maximum_sequence_length_in_the_batch]\n",
    "        qshft_seqs: the question(KC) sequences which were shifted \\\n",
    "            one step to the right with the size of \\\n",
    "            [batch_size, maximum_sequence_length_in_the_batch]\n",
    "        rshft_seqs: the response sequences which were shifted \\\n",
    "            one step to the right with the size of \\\n",
    "            [batch_size, maximum_sequence_length_in_the_batch]\n",
    "        mask_seqs: the mask sequences indicating where \\\n",
    "            the padded entry is with the size of \\\n",
    "            [batch_size, maximum_sequence_length_in_the_batch]\n",
    "    '''\n",
    "\n",
    "    q_seqs = []\n",
    "    r_seqs = []\n",
    "    qshft_seqs = []\n",
    "    rshft_seqs = []\n",
    "    at_seqs = []\n",
    "    atshft_seqs = []\n",
    "    q2diff_seqs = []\n",
    "    pid_seqs = []\n",
    "    pidshft_seqs = []\n",
    "    hint_seqs = []\n",
    "\n",
    "    # q_seq와 r_seq는 마지막 전까지만 가져옴 (마지막은 padding value)\n",
    "    # q_shft와 rshft는 처음 값 이후 가져옴 (우측 시프트 값이므로..)\n",
    "    for q_seq, r_seq, at_seq, q2diff, pid_seq, hint_seq in batch:\n",
    "        q_seqs.append(FloatTensor(q_seq[:-1])) \n",
    "        r_seqs.append(FloatTensor(r_seq[:-1]))\n",
    "        at_seqs.append(at_seq[:-1])\n",
    "        atshft_seqs.append(at_seq[1:])\n",
    "        qshft_seqs.append(FloatTensor(q_seq[1:]))\n",
    "        rshft_seqs.append(FloatTensor(r_seq[1:]))\n",
    "        q2diff_seqs.append(FloatTensor(q2diff[:-1]))\n",
    "        pid_seqs.append(FloatTensor(pid_seq[:-1]))\n",
    "        pidshft_seqs.append(FloatTensor(pid_seq[1:]))\n",
    "        hint_seqs.append(FloatTensor(hint_seq[:-1]))\n",
    "\n",
    "    # pad_sequence, 첫번째 인자는 sequence, 두번째는 batch_size가 첫 번째로 인자로 오게 하는 것이고, 3번째 인자의 경우 padding된 요소의 값\n",
    "    # 시퀀스 내 가장 길이가 긴 시퀀스를 기준으로 padding이 됨, 길이가 안맞는 부분은 늘려서 padding_value 값으로 채워줌\n",
    "    q_seqs = pad_sequence(\n",
    "        q_seqs, batch_first=True, padding_value=pad_val\n",
    "    )\n",
    "    r_seqs = pad_sequence(\n",
    "        r_seqs, batch_first=True, padding_value=pad_val\n",
    "    )\n",
    "    q2diff_seqs = pad_sequence(\n",
    "        q2diff_seqs, batch_first=True, padding_value=pad_val\n",
    "    )\n",
    "    qshft_seqs = pad_sequence(\n",
    "        qshft_seqs, batch_first=True, padding_value=pad_val\n",
    "    )\n",
    "    rshft_seqs = pad_sequence(\n",
    "        rshft_seqs, batch_first=True, padding_value=pad_val\n",
    "    )\n",
    "    pid_seqs = pad_sequence(\n",
    "        pid_seqs, batch_first=True, padding_value=pad_val\n",
    "    )\n",
    "    pidshft_seqs = pad_sequence(\n",
    "        pidshft_seqs, batch_first=True, padding_value=pad_val\n",
    "    )\n",
    "    at_seqs = pad_sequence(\n",
    "        at_seqs, batch_first=True, padding_value=pad_val\n",
    "    )\n",
    "\n",
    "    # 마스킹 시퀀스 생성 \n",
    "    # 일반 question 시퀀스: 패딩 밸류와 다른 값들은 모두 1로 처리, 패딩 처리된 값들은 0으로 처리.\n",
    "    # 일반 question padding 시퀀스: 한 칸 옆으로 시프팅 된 시퀀스 값들이 패딩 값과 다를 경우 1로 처리, 패딩 처리 된 값들은 0으로 처리.\n",
    "    # 마스킹 시퀀스: 패딩 처리 된 시퀀스 밸류들은 모두 0, 두 값 모두 패딩처리 되지 않았을 경우 1로 처리. (원본 시퀀스와 shift 시퀀스 모두의 값)\n",
    "    # 예를 들어, 현재 값과 다음 값이 패딩 값이 아닐 경우 1, 현재 값과 다음 값 둘 중 하나라도 패딩일 경우 0으로 처리함.\n",
    "    mask_seqs = (q_seqs != pad_val) * (qshft_seqs != pad_val)\n",
    "\n",
    "    # 원본 값의 다음 값이(shift value) 패딩이기만 해도 마스킹 시퀀스에 의해 값이 0로 변함. 아닐경우 원본 시퀀스 데이터를 가짐.\n",
    "    q_seqs, r_seqs, qshft_seqs, rshft_seqs, q2diff_seqs, pid_seqs, pidshft_seqs, at_seqs = \\\n",
    "        q_seqs * mask_seqs, r_seqs * mask_seqs, qshft_seqs * mask_seqs, \\\n",
    "        rshft_seqs * mask_seqs, q2diff_seqs * mask_seqs, pid_seqs * mask_seqs, \\\n",
    "        pidshft_seqs * mask_seqs, at_seqs * mask_seqs\n",
    "    \n",
    "    return q_seqs, r_seqs, qshft_seqs, rshft_seqs, mask_seqs, at_seqs, q2diff_seqs, pid_seqs, pidshft_seqs"
   ]
  },
  {
   "cell_type": "code",
   "execution_count": 5,
   "metadata": {},
   "outputs": [],
   "source": [
    "# load dataset\n",
    "# 데이터셋 추가 가능\n",
    "collate_pt = custom_collate\n",
    "if dataset_name == \"ASSIST2009\":\n",
    "    dataset = ASSIST2009(seq_len, 'datasets/ASSIST2009/')\n",
    "elif dataset_name == \"ASSIST2012\":\n",
    "    dataset = ASSIST2012(seq_len, 'datasets/ASSIST2012/')\n",
    "    \n",
    "# 데이터셋 분할\n",
    "data_size = len(dataset)\n",
    "train_size = int(data_size * train_ratio) \n",
    "valid_size = int(data_size * ((1.0 - train_ratio) / 2.0))\n",
    "test_size = data_size - train_size - valid_size\n",
    "\n",
    "train_dataset, valid_dataset, test_dataset = random_split(\n",
    "    dataset, [train_size, valid_size, test_size], generator=torch.Generator(device=device)\n",
    ")\n",
    "\n",
    "train_loader = DataLoader(\n",
    "    train_dataset, batch_size=batch_size, shuffle=True,\n",
    "    collate_fn=collate_pt, generator=torch.Generator(device=device)\n",
    ")\n",
    "valid_loader = DataLoader(\n",
    "    valid_dataset, batch_size=batch_size, shuffle=True,\n",
    "    collate_fn=collate_pt, generator=torch.Generator(device=device)\n",
    ")\n",
    "test_loader = DataLoader(\n",
    "    test_dataset, batch_size=batch_size, shuffle=True,\n",
    "    collate_fn=collate_pt, generator=torch.Generator(device=device)\n",
    ")"
   ]
  },
  {
   "cell_type": "code",
   "execution_count": 6,
   "metadata": {},
   "outputs": [],
   "source": [
    "# "
   ]
  },
  {
   "cell_type": "code",
   "execution_count": 7,
   "metadata": {},
   "outputs": [],
   "source": [
    "# define help function"
   ]
  },
  {
   "cell_type": "code",
   "execution_count": 9,
   "metadata": {},
   "outputs": [
    {
     "name": "stderr",
     "output_type": "stream",
     "text": [
      "Some weights of the model checkpoint at distilbert-base-uncased were not used when initializing DistilBertModel: ['vocab_layer_norm.weight', 'vocab_projector.bias', 'vocab_transform.weight', 'vocab_layer_norm.bias', 'vocab_projector.weight', 'vocab_transform.bias']\n",
      "- This IS expected if you are initializing DistilBertModel from the checkpoint of a model trained on another task or with another architecture (e.g. initializing a BertForSequenceClassification model from a BertForPreTraining model).\n",
      "- This IS NOT expected if you are initializing DistilBertModel from the checkpoint of a model that you expect to be exactly identical (initializing a BertForSequenceClassification model from a BertForSequenceClassification model).\n"
     ]
    },
    {
     "ename": "RuntimeError",
     "evalue": "Error(s) in loading state_dict for SUBJ_DKVMN:\n\tMissing key(s) in state_dict: \"Mk\", \"Mv0\", \"k_emb_layer.weight\", \"d_emb_layer.weight\", \"transformer_encoder.layers.0.self_attn.in_proj_weight\", \"transformer_encoder.layers.0.self_attn.in_proj_bias\", \"transformer_encoder.layers.0.self_attn.out_proj.weight\", \"transformer_encoder.layers.0.self_attn.out_proj.bias\", \"transformer_encoder.layers.0.linear1.weight\", \"transformer_encoder.layers.0.linear1.bias\", \"transformer_encoder.layers.0.linear2.weight\", \"transformer_encoder.layers.0.linear2.bias\", \"transformer_encoder.layers.0.norm1.weight\", \"transformer_encoder.layers.0.norm1.bias\", \"transformer_encoder.layers.0.norm2.weight\", \"transformer_encoder.layers.0.norm2.bias\", \"bertmodel.embeddings.word_embeddings.weight\", \"bertmodel.embeddings.position_embeddings.weight\", \"bertmodel.embeddings.LayerNorm.weight\", \"bertmodel.embeddings.LayerNorm.bias\", \"bertmodel.transformer.layer.0.attention.q_lin.weight\", \"bertmodel.transformer.layer.0.attention.q_lin.bias\", \"bertmodel.transformer.layer.0.attention.k_lin.weight\", \"bertmodel.transformer.layer.0.attention.k_lin.bias\", \"bertmodel.transformer.layer.0.attention.v_lin.weight\", \"bertmodel.transformer.layer.0.attention.v_lin.bias\", \"bertmodel.transformer.layer.0.attention.out_lin.weight\", \"bertmodel.transformer.layer.0.attention.out_lin.bias\", \"bertmodel.transformer.layer.0.sa_layer_norm.weight\", \"bertmodel.transformer.layer.0.sa_layer_norm.bias\", \"bertmodel.transformer.layer.0.ffn.lin1.weight\", \"bertmodel.transformer.layer.0.ffn.lin1.bias\", \"bertmodel.transformer.layer.0.ffn.lin2.weight\", \"bertmodel.transformer.layer.0.ffn.lin2.bias\", \"bertmodel.transformer.layer.0.output_layer_norm.weight\", \"bertmodel.transformer.layer.0.output_layer_norm.bias\", \"bertmodel.transformer.layer.1.attention.q_lin.weight\", \"bertmodel.transformer.layer.1.attention.q_lin.bias\", \"bertmodel.transformer.layer.1.attention.k_lin.weight\", \"bertmodel.transformer.layer.1.attention.k_lin.bias\", \"bertmodel.transformer.layer.1.attention.v_lin.weight\", \"bertmodel.transformer.layer.1.attention.v_lin.bias\", \"bertmodel.transformer.layer.1.attention.out_lin.weight\", \"bertmodel.transformer.layer.1.attention.out_lin.bias\", \"bertmodel.transformer.layer.1.sa_layer_norm.weight\", \"bertmodel.transformer.layer.1.sa_layer_norm.bias\", \"bertmodel.transformer.layer.1.ffn.lin1.weight\", \"bertmodel.transformer.layer.1.ffn.lin1.bias\", \"bertmodel.transformer.layer.1.ffn.lin2.weight\", \"bertmodel.transformer.layer.1.ffn.lin2.bias\", \"bertmodel.transformer.layer.1.output_layer_norm.weight\", \"bertmodel.transformer.layer.1.output_layer_norm.bias\", \"bertmodel.transformer.layer.2.attention.q_lin.weight\", \"bertmodel.transformer.layer.2.attention.q_lin.bias\", \"bertmodel.transformer.layer.2.attention.k_lin.weight\", \"bertmodel.transformer.layer.2.attention.k_lin.bias\", \"bertmodel.transformer.layer.2.attention.v_lin.weight\", \"bertmodel.transformer.layer.2.attention.v_lin.bias\", \"bertmodel.transformer.layer.2.attention.out_lin.weight\", \"bertmodel.transformer.layer.2.attention.out_lin.bias\", \"bertmodel.transformer.layer.2.sa_layer_norm.weight\", \"bertmodel.transformer.layer.2.sa_layer_norm.bias\", \"bertmodel.transformer.layer.2.ffn.lin1.weight\", \"bertmodel.transformer.layer.2.ffn.lin1.bias\", \"bertmodel.transformer.layer.2.ffn.lin2.weight\", \"bertmodel.transformer.layer.2.ffn.lin2.bias\", \"bertmodel.transformer.layer.2.output_layer_norm.weight\", \"bertmodel.transformer.layer.2.output_layer_norm.bias\", \"bertmodel.transformer.layer.3.attention.q_lin.weight\", \"bertmodel.transformer.layer.3.attention.q_lin.bias\", \"bertmodel.transformer.layer.3.attention.k_lin.weight\", \"bertmodel.transformer.layer.3.attention.k_lin.bias\", \"bertmodel.transformer.layer.3.attention.v_lin.weight\", \"bertmodel.transformer.layer.3.attention.v_lin.bias\", \"bertmodel.transformer.layer.3.attention.out_lin.weight\", \"bertmodel.transformer.layer.3.attention.out_lin.bias\", \"bertmodel.transformer.layer.3.sa_layer_norm.weight\", \"bertmodel.transformer.layer.3.sa_layer_norm.bias\", \"bertmodel.transformer.layer.3.ffn.lin1.weight\", \"bertmodel.transformer.layer.3.ffn.lin1.bias\", \"bertmodel.transformer.layer.3.ffn.lin2.weight\", \"bertmodel.transformer.layer.3.ffn.lin2.bias\", \"bertmodel.transformer.layer.3.output_layer_norm.weight\", \"bertmodel.transformer.layer.3.output_layer_norm.bias\", \"bertmodel.transformer.layer.4.attention.q_lin.weight\", \"bertmodel.transformer.layer.4.attention.q_lin.bias\", \"bertmodel.transformer.layer.4.attention.k_lin.weight\", \"bertmodel.transformer.layer.4.attention.k_lin.bias\", \"bertmodel.transformer.layer.4.attention.v_lin.weight\", \"bertmodel.transformer.layer.4.attention.v_lin.bias\", \"bertmodel.transformer.layer.4.attention.out_lin.weight\", \"bertmodel.transformer.layer.4.attention.out_lin.bias\", \"bertmodel.transformer.layer.4.sa_layer_norm.weight\", \"bertmodel.transformer.layer.4.sa_layer_norm.bias\", \"bertmodel.transformer.layer.4.ffn.lin1.weight\", \"bertmodel.transformer.layer.4.ffn.lin1.bias\", \"bertmodel.transformer.layer.4.ffn.lin2.weight\", \"bertmodel.transformer.layer.4.ffn.lin2.bias\", \"bertmodel.transformer.layer.4.output_layer_norm.weight\", \"bertmodel.transformer.layer.4.output_layer_norm.bias\", \"bertmodel.transformer.layer.5.attention.q_lin.weight\", \"bertmodel.transformer.layer.5.attention.q_lin.bias\", \"bertmodel.transformer.layer.5.attention.k_lin.weight\", \"bertmodel.transformer.layer.5.attention.k_lin.bias\", \"bertmodel.transformer.layer.5.attention.v_lin.weight\", \"bertmodel.transformer.layer.5.attention.v_lin.bias\", \"bertmodel.transformer.layer.5.attention.out_lin.weight\", \"bertmodel.transformer.layer.5.attention.out_lin.bias\", \"bertmodel.transformer.layer.5.sa_layer_norm.weight\", \"bertmodel.transformer.layer.5.sa_layer_norm.bias\", \"bertmodel.transformer.layer.5.ffn.lin1.weight\", \"bertmodel.transformer.layer.5.ffn.lin1.bias\", \"bertmodel.transformer.layer.5.ffn.lin2.weight\", \"bertmodel.transformer.layer.5.ffn.lin2.bias\", \"bertmodel.transformer.layer.5.output_layer_norm.weight\", \"bertmodel.transformer.layer.5.output_layer_norm.bias\", \"at_emb_layer.weight\", \"at_emb_layer.bias\", \"at2_emb_layer.weight\", \"at2_emb_layer.bias\", \"qr_emb_layer.weight\", \"v_emb_layer.weight\", \"v_emb_layer.bias\", \"e_layer.weight\", \"e_layer.bias\", \"a_layer.weight\", \"a_layer.bias\", \"f_layer.weight\", \"f_layer.bias\", \"p_layer.weight\", \"p_layer.bias\". \n\tUnexpected key(s) in state_dict: \"module.Mk\", \"module.Mv0\", \"module.k_emb_layer.weight\", \"module.d_emb_layer.weight\", \"module.transformer_encoder.layers.0.self_attn.in_proj_weight\", \"module.transformer_encoder.layers.0.self_attn.in_proj_bias\", \"module.transformer_encoder.layers.0.self_attn.out_proj.weight\", \"module.transformer_encoder.layers.0.self_attn.out_proj.bias\", \"module.transformer_encoder.layers.0.linear1.weight\", \"module.transformer_encoder.layers.0.linear1.bias\", \"module.transformer_encoder.layers.0.linear2.weight\", \"module.transformer_encoder.layers.0.linear2.bias\", \"module.transformer_encoder.layers.0.norm1.weight\", \"module.transformer_encoder.layers.0.norm1.bias\", \"module.transformer_encoder.layers.0.norm2.weight\", \"module.transformer_encoder.layers.0.norm2.bias\", \"module.bertmodel.embeddings.position_ids\", \"module.bertmodel.embeddings.word_embeddings.weight\", \"module.bertmodel.embeddings.position_embeddings.weight\", \"module.bertmodel.embeddings.token_type_embeddings.weight\", \"module.bertmodel.embeddings.LayerNorm.weight\", \"module.bertmodel.embeddings.LayerNorm.bias\", \"module.bertmodel.encoder.layer.0.attention.self.query.weight\", \"module.bertmodel.encoder.layer.0.attention.self.query.bias\", \"module.bertmodel.encoder.layer.0.attention.self.key.weight\", \"module.bertmodel.encoder.layer.0.attention.self.key.bias\", \"module.bertmodel.encoder.layer.0.attention.self.value.weight\", \"module.bertmodel.encoder.layer.0.attention.self.value.bias\", \"module.bertmodel.encoder.layer.0.attention.output.dense.weight\", \"module.bertmodel.encoder.layer.0.attention.output.dense.bias\", \"module.bertmodel.encoder.layer.0.attention.output.LayerNorm.weight\", \"module.bertmodel.encoder.layer.0.attention.output.LayerNorm.bias\", \"module.bertmodel.encoder.layer.0.intermediate.dense.weight\", \"module.bertmodel.encoder.layer.0.intermediate.dense.bias\", \"module.bertmodel.encoder.layer.0.output.dense.weight\", \"module.bertmodel.encoder.layer.0.output.dense.bias\", \"module.bertmodel.encoder.layer.0.output.LayerNorm.weight\", \"module.bertmodel.encoder.layer.0.output.LayerNorm.bias\", \"module.bertmodel.encoder.layer.1.attention.self.query.weight\", \"module.bertmodel.encoder.layer.1.attention.self.query.bias\", \"module.bertmodel.encoder.layer.1.attention.self.key.weight\", \"module.bertmodel.encoder.layer.1.attention.self.key.bias\", \"module.bertmodel.encoder.layer.1.attention.self.value.weight\", \"module.bertmodel.encoder.layer.1.attention.self.value.bias\", \"module.bertmodel.encoder.layer.1.attention.output.dense.weight\", \"module.bertmodel.encoder.layer.1.attention.output.dense.bias\", \"module.bertmodel.encoder.layer.1.attention.output.LayerNorm.weight\", \"module.bertmodel.encoder.layer.1.attention.output.LayerNorm.bias\", \"module.bertmodel.encoder.layer.1.intermediate.dense.weight\", \"module.bertmodel.encoder.layer.1.intermediate.dense.bias\", \"module.bertmodel.encoder.layer.1.output.dense.weight\", \"module.bertmodel.encoder.layer.1.output.dense.bias\", \"module.bertmodel.encoder.layer.1.output.LayerNorm.weight\", \"module.bertmodel.encoder.layer.1.output.LayerNorm.bias\", \"module.bertmodel.encoder.layer.2.attention.self.query.weight\", \"module.bertmodel.encoder.layer.2.attention.self.query.bias\", \"module.bertmodel.encoder.layer.2.attention.self.key.weight\", \"module.bertmodel.encoder.layer.2.attention.self.key.bias\", \"module.bertmodel.encoder.layer.2.attention.self.value.weight\", \"module.bertmodel.encoder.layer.2.attention.self.value.bias\", \"module.bertmodel.encoder.layer.2.attention.output.dense.weight\", \"module.bertmodel.encoder.layer.2.attention.output.dense.bias\", \"module.bertmodel.encoder.layer.2.attention.output.LayerNorm.weight\", \"module.bertmodel.encoder.layer.2.attention.output.LayerNorm.bias\", \"module.bertmodel.encoder.layer.2.intermediate.dense.weight\", \"module.bertmodel.encoder.layer.2.intermediate.dense.bias\", \"module.bertmodel.encoder.layer.2.output.dense.weight\", \"module.bertmodel.encoder.layer.2.output.dense.bias\", \"module.bertmodel.encoder.layer.2.output.LayerNorm.weight\", \"module.bertmodel.encoder.layer.2.output.LayerNorm.bias\", \"module.bertmodel.encoder.layer.3.attention.self.query.weight\", \"module.bertmodel.encoder.layer.3.attention.self.query.bias\", \"module.bertmodel.encoder.layer.3.attention.self.key.weight\", \"module.bertmodel.encoder.layer.3.attention.self.key.bias\", \"module.bertmodel.encoder.layer.3.attention.self.value.weight\", \"module.bertmodel.encoder.layer.3.attention.self.value.bias\", \"module.bertmodel.encoder.layer.3.attention.output.dense.weight\", \"module.bertmodel.encoder.layer.3.attention.output.dense.bias\", \"module.bertmodel.encoder.layer.3.attention.output.LayerNorm.weight\", \"module.bertmodel.encoder.layer.3.attention.output.LayerNorm.bias\", \"module.bertmodel.encoder.layer.3.intermediate.dense.weight\", \"module.bertmodel.encoder.layer.3.intermediate.dense.bias\", \"module.bertmodel.encoder.layer.3.output.dense.weight\", \"module.bertmodel.encoder.layer.3.output.dense.bias\", \"module.bertmodel.encoder.layer.3.output.LayerNorm.weight\", \"module.bertmodel.encoder.layer.3.output.LayerNorm.bias\", \"module.bertmodel.encoder.layer.4.attention.self.query.weight\", \"module.bertmodel.encoder.layer.4.attention.self.query.bias\", \"module.bertmodel.encoder.layer.4.attention.self.key.weight\", \"module.bertmodel.encoder.layer.4.attention.self.key.bias\", \"module.bertmodel.encoder.layer.4.attention.self.value.weight\", \"module.bertmodel.encoder.layer.4.attention.self.value.bias\", \"module.bertmodel.encoder.layer.4.attention.output.dense.weight\", \"module.bertmodel.encoder.layer.4.attention.output.dense.bias\", \"module.bertmodel.encoder.layer.4.attention.output.LayerNorm.weight\", \"module.bertmodel.encoder.layer.4.attention.output.LayerNorm.bias\", \"module.bertmodel.encoder.layer.4.intermediate.dense.weight\", \"module.bertmodel.encoder.layer.4.intermediate.dense.bias\", \"module.bertmodel.encoder.layer.4.output.dense.weight\", \"module.bertmodel.encoder.layer.4.output.dense.bias\", \"module.bertmodel.encoder.layer.4.output.LayerNorm.weight\", \"module.bertmodel.encoder.layer.4.output.LayerNorm.bias\", \"module.bertmodel.encoder.layer.5.attention.self.query.weight\", \"module.bertmodel.encoder.layer.5.attention.self.query.bias\", \"module.bertmodel.encoder.layer.5.attention.self.key.weight\", \"module.bertmodel.encoder.layer.5.attention.self.key.bias\", \"module.bertmodel.encoder.layer.5.attention.self.value.weight\", \"module.bertmodel.encoder.layer.5.attention.self.value.bias\", \"module.bertmodel.encoder.layer.5.attention.output.dense.weight\", \"module.bertmodel.encoder.layer.5.attention.output.dense.bias\", \"module.bertmodel.encoder.layer.5.attention.output.LayerNorm.weight\", \"module.bertmodel.encoder.layer.5.attention.output.LayerNorm.bias\", \"module.bertmodel.encoder.layer.5.intermediate.dense.weight\", \"module.bertmodel.encoder.layer.5.intermediate.dense.bias\", \"module.bertmodel.encoder.layer.5.output.dense.weight\", \"module.bertmodel.encoder.layer.5.output.dense.bias\", \"module.bertmodel.encoder.layer.5.output.LayerNorm.weight\", \"module.bertmodel.encoder.layer.5.output.LayerNorm.bias\", \"module.bertmodel.encoder.layer.6.attention.self.query.weight\", \"module.bertmodel.encoder.layer.6.attention.self.query.bias\", \"module.bertmodel.encoder.layer.6.attention.self.key.weight\", \"module.bertmodel.encoder.layer.6.attention.self.key.bias\", \"module.bertmodel.encoder.layer.6.attention.self.value.weight\", \"module.bertmodel.encoder.layer.6.attention.self.value.bias\", \"module.bertmodel.encoder.layer.6.attention.output.dense.weight\", \"module.bertmodel.encoder.layer.6.attention.output.dense.bias\", \"module.bertmodel.encoder.layer.6.attention.output.LayerNorm.weight\", \"module.bertmodel.encoder.layer.6.attention.output.LayerNorm.bias\", \"module.bertmodel.encoder.layer.6.intermediate.dense.weight\", \"module.bertmodel.encoder.layer.6.intermediate.dense.bias\", \"module.bertmodel.encoder.layer.6.output.dense.weight\", \"module.bertmodel.encoder.layer.6.output.dense.bias\", \"module.bertmodel.encoder.layer.6.output.LayerNorm.weight\", \"module.bertmodel.encoder.layer.6.output.LayerNorm.bias\", \"module.bertmodel.encoder.layer.7.attention.self.query.weight\", \"module.bertmodel.encoder.layer.7.attention.self.query.bias\", \"module.bertmodel.encoder.layer.7.attention.self.key.weight\", \"module.bertmodel.encoder.layer.7.attention.self.key.bias\", \"module.bertmodel.encoder.layer.7.attention.self.value.weight\", \"module.bertmodel.encoder.layer.7.attention.self.value.bias\", \"module.bertmodel.encoder.layer.7.attention.output.dense.weight\", \"module.bertmodel.encoder.layer.7.attention.output.dense.bias\", \"module.bertmodel.encoder.layer.7.attention.output.LayerNorm.weight\", \"module.bertmodel.encoder.layer.7.attention.output.LayerNorm.bias\", \"module.bertmodel.encoder.layer.7.intermediate.dense.weight\", \"module.bertmodel.encoder.layer.7.intermediate.dense.bias\", \"module.bertmodel.encoder.layer.7.output.dense.weight\", \"module.bertmodel.encoder.layer.7.output.dense.bias\", \"module.bertmodel.encoder.layer.7.output.LayerNorm.weight\", \"module.bertmodel.encoder.layer.7.output.LayerNorm.bias\", \"module.bertmodel.encoder.layer.8.attention.self.query.weight\", \"module.bertmodel.encoder.layer.8.attention.self.query.bias\", \"module.bertmodel.encoder.layer.8.attention.self.key.weight\", \"module.bertmodel.encoder.layer.8.attention.self.key.bias\", \"module.bertmodel.encoder.layer.8.attention.self.value.weight\", \"module.bertmodel.encoder.layer.8.attention.self.value.bias\", \"module.bertmodel.encoder.layer.8.attention.output.dense.weight\", \"module.bertmodel.encoder.layer.8.attention.output.dense.bias\", \"module.bertmodel.encoder.layer.8.attention.output.LayerNorm.weight\", \"module.bertmodel.encoder.layer.8.attention.output.LayerNorm.bias\", \"module.bertmodel.encoder.layer.8.intermediate.dense.weight\", \"module.bertmodel.encoder.layer.8.intermediate.dense.bias\", \"module.bertmodel.encoder.layer.8.output.dense.weight\", \"module.bertmodel.encoder.layer.8.output.dense.bias\", \"module.bertmodel.encoder.layer.8.output.LayerNorm.weight\", \"module.bertmodel.encoder.layer.8.output.LayerNorm.bias\", \"module.bertmodel.encoder.layer.9.attention.self.query.weight\", \"module.bertmodel.encoder.layer.9.attention.self.query.bias\", \"module.bertmodel.encoder.layer.9.attention.self.key.weight\", \"module.bertmodel.encoder.layer.9.attention.self.key.bias\", \"module.bertmodel.encoder.layer.9.attention.self.value.weight\", \"module.bertmodel.encoder.layer.9.attention.self.value.bias\", \"module.bertmodel.encoder.layer.9.attention.output.dense.weight\", \"module.bertmodel.encoder.layer.9.attention.output.dense.bias\", \"module.bertmodel.encoder.layer.9.attention.output.LayerNorm.weight\", \"module.bertmodel.encoder.layer.9.attention.output.LayerNorm.bias\", \"module.bertmodel.encoder.layer.9.intermediate.dense.weight\", \"module.bertmodel.encoder.layer.9.intermediate.dense.bias\", \"module.bertmodel.encoder.layer.9.output.dense.weight\", \"module.bertmodel.encoder.layer.9.output.dense.bias\", \"module.bertmodel.encoder.layer.9.output.LayerNorm.weight\", \"module.bertmodel.encoder.layer.9.output.LayerNorm.bias\", \"module.bertmodel.encoder.layer.10.attention.self.query.weight\", \"module.bertmodel.encoder.layer.10.attention.self.query.bias\", \"module.bertmodel.encoder.layer.10.attention.self.key.weight\", \"module.bertmodel.encoder.layer.10.attention.self.key.bias\", \"module.bertmodel.encoder.layer.10.attention.self.value.weight\", \"module.bertmodel.encoder.layer.10.attention.self.value.bias\", \"module.bertmodel.encoder.layer.10.attention.output.dense.weight\", \"module.bertmodel.encoder.layer.10.attention.output.dense.bias\", \"module.bertmodel.encoder.layer.10.attention.output.LayerNorm.weight\", \"module.bertmodel.encoder.layer.10.attention.output.LayerNorm.bias\", \"module.bertmodel.encoder.layer.10.intermediate.dense.weight\", \"module.bertmodel.encoder.layer.10.intermediate.dense.bias\", \"module.bertmodel.encoder.layer.10.output.dense.weight\", \"module.bertmodel.encoder.layer.10.output.dense.bias\", \"module.bertmodel.encoder.layer.10.output.LayerNorm.weight\", \"module.bertmodel.encoder.layer.10.output.LayerNorm.bias\", \"module.bertmodel.encoder.layer.11.attention.self.query.weight\", \"module.bertmodel.encoder.layer.11.attention.self.query.bias\", \"module.bertmodel.encoder.layer.11.attention.self.key.weight\", \"module.bertmodel.encoder.layer.11.attention.self.key.bias\", \"module.bertmodel.encoder.layer.11.attention.self.value.weight\", \"module.bertmodel.encoder.layer.11.attention.self.value.bias\", \"module.bertmodel.encoder.layer.11.attention.output.dense.weight\", \"module.bertmodel.encoder.layer.11.attention.output.dense.bias\", \"module.bertmodel.encoder.layer.11.attention.output.LayerNorm.weight\", \"module.bertmodel.encoder.layer.11.attention.output.LayerNorm.bias\", \"module.bertmodel.encoder.layer.11.intermediate.dense.weight\", \"module.bertmodel.encoder.layer.11.intermediate.dense.bias\", \"module.bertmodel.encoder.layer.11.output.dense.weight\", \"module.bertmodel.encoder.layer.11.output.dense.bias\", \"module.bertmodel.encoder.layer.11.output.LayerNorm.weight\", \"module.bertmodel.encoder.layer.11.output.LayerNorm.bias\", \"module.bertmodel.pooler.dense.weight\", \"module.bertmodel.pooler.dense.bias\", \"module.at_emb_layer.weight\", \"module.at_emb_layer.bias\", \"module.at2_emb_layer.weight\", \"module.at2_emb_layer.bias\", \"module.qr_emb_layer.weight\", \"module.v_emb_layer.weight\", \"module.v_emb_layer.bias\", \"module.e_layer.weight\", \"module.e_layer.bias\", \"module.a_layer.weight\", \"module.a_layer.bias\", \"module.f_layer.weight\", \"module.f_layer.bias\", \"module.p_layer.weight\", \"module.p_layer.bias\". ",
     "output_type": "error",
     "traceback": [
      "\u001b[1;31m---------------------------------------------------------------------------\u001b[0m",
      "\u001b[1;31mRuntimeError\u001b[0m                              Traceback (most recent call last)",
      "\u001b[1;32m<ipython-input-9-29f82dc550a8>\u001b[0m in \u001b[0;36m<module>\u001b[1;34m\u001b[0m\n\u001b[0;32m      1\u001b[0m \u001b[1;31m# load model / tokenizer\u001b[0m\u001b[1;33m\u001b[0m\u001b[1;33m\u001b[0m\u001b[1;33m\u001b[0m\u001b[0m\n\u001b[0;32m      2\u001b[0m \u001b[0mmodel\u001b[0m \u001b[1;33m=\u001b[0m \u001b[0mSUBJ_DKVMN\u001b[0m\u001b[1;33m(\u001b[0m\u001b[0mdataset\u001b[0m\u001b[1;33m.\u001b[0m\u001b[0mnum_q\u001b[0m\u001b[1;33m,\u001b[0m \u001b[0mnum_qid\u001b[0m\u001b[1;33m=\u001b[0m\u001b[0mdataset\u001b[0m\u001b[1;33m.\u001b[0m\u001b[0mnum_pid\u001b[0m\u001b[1;33m,\u001b[0m \u001b[1;33m**\u001b[0m\u001b[0mmodel_config\u001b[0m\u001b[1;33m)\u001b[0m\u001b[1;33m.\u001b[0m\u001b[0mto\u001b[0m\u001b[1;33m(\u001b[0m\u001b[0mdevice\u001b[0m\u001b[1;33m)\u001b[0m\u001b[1;33m\u001b[0m\u001b[1;33m\u001b[0m\u001b[0m\n\u001b[1;32m----> 3\u001b[1;33m \u001b[0mmodel\u001b[0m\u001b[1;33m.\u001b[0m\u001b[0mload_state_dict\u001b[0m\u001b[1;33m(\u001b[0m\u001b[0mtorch\u001b[0m\u001b[1;33m.\u001b[0m\u001b[0mload\u001b[0m\u001b[1;33m(\u001b[0m\u001b[0mos\u001b[0m\u001b[1;33m.\u001b[0m\u001b[0mpath\u001b[0m\u001b[1;33m.\u001b[0m\u001b[0mjoin\u001b[0m\u001b[1;33m(\u001b[0m\u001b[0mckpts\u001b[0m\u001b[1;33m,\u001b[0m \u001b[1;34m\"model.ckpt\"\u001b[0m\u001b[1;33m)\u001b[0m\u001b[1;33m,\u001b[0m \u001b[0mmap_location\u001b[0m\u001b[1;33m=\u001b[0m\u001b[0mdevice\u001b[0m\u001b[1;33m)\u001b[0m\u001b[1;33m)\u001b[0m\u001b[1;33m\u001b[0m\u001b[1;33m\u001b[0m\u001b[0m\n\u001b[0m\u001b[0;32m      4\u001b[0m \u001b[0mmodel\u001b[0m\u001b[1;33m.\u001b[0m\u001b[0meval\u001b[0m\u001b[1;33m(\u001b[0m\u001b[1;33m)\u001b[0m\u001b[1;33m\u001b[0m\u001b[1;33m\u001b[0m\u001b[0m\n\u001b[0;32m      5\u001b[0m \u001b[0mmodel\u001b[0m\u001b[1;33m.\u001b[0m\u001b[0mzero_grad\u001b[0m\u001b[1;33m(\u001b[0m\u001b[1;33m)\u001b[0m\u001b[1;33m\u001b[0m\u001b[1;33m\u001b[0m\u001b[0m\n",
      "\u001b[1;32mc:\\Users\\user2\\Desktop\\master_degree\\research\\env_research\\lib\\site-packages\\torch\\nn\\modules\\module.py\u001b[0m in \u001b[0;36mload_state_dict\u001b[1;34m(self, state_dict, strict)\u001b[0m\n\u001b[0;32m   1481\u001b[0m         \u001b[1;32mif\u001b[0m \u001b[0mlen\u001b[0m\u001b[1;33m(\u001b[0m\u001b[0merror_msgs\u001b[0m\u001b[1;33m)\u001b[0m \u001b[1;33m>\u001b[0m \u001b[1;36m0\u001b[0m\u001b[1;33m:\u001b[0m\u001b[1;33m\u001b[0m\u001b[1;33m\u001b[0m\u001b[0m\n\u001b[0;32m   1482\u001b[0m             raise RuntimeError('Error(s) in loading state_dict for {}:\\n\\t{}'.format(\n\u001b[1;32m-> 1483\u001b[1;33m                                self.__class__.__name__, \"\\n\\t\".join(error_msgs)))\n\u001b[0m\u001b[0;32m   1484\u001b[0m         \u001b[1;32mreturn\u001b[0m \u001b[0m_IncompatibleKeys\u001b[0m\u001b[1;33m(\u001b[0m\u001b[0mmissing_keys\u001b[0m\u001b[1;33m,\u001b[0m \u001b[0munexpected_keys\u001b[0m\u001b[1;33m)\u001b[0m\u001b[1;33m\u001b[0m\u001b[1;33m\u001b[0m\u001b[0m\n\u001b[0;32m   1485\u001b[0m \u001b[1;33m\u001b[0m\u001b[0m\n",
      "\u001b[1;31mRuntimeError\u001b[0m: Error(s) in loading state_dict for SUBJ_DKVMN:\n\tMissing key(s) in state_dict: \"Mk\", \"Mv0\", \"k_emb_layer.weight\", \"d_emb_layer.weight\", \"transformer_encoder.layers.0.self_attn.in_proj_weight\", \"transformer_encoder.layers.0.self_attn.in_proj_bias\", \"transformer_encoder.layers.0.self_attn.out_proj.weight\", \"transformer_encoder.layers.0.self_attn.out_proj.bias\", \"transformer_encoder.layers.0.linear1.weight\", \"transformer_encoder.layers.0.linear1.bias\", \"transformer_encoder.layers.0.linear2.weight\", \"transformer_encoder.layers.0.linear2.bias\", \"transformer_encoder.layers.0.norm1.weight\", \"transformer_encoder.layers.0.norm1.bias\", \"transformer_encoder.layers.0.norm2.weight\", \"transformer_encoder.layers.0.norm2.bias\", \"bertmodel.embeddings.word_embeddings.weight\", \"bertmodel.embeddings.position_embeddings.weight\", \"bertmodel.embeddings.LayerNorm.weight\", \"bertmodel.embeddings.LayerNorm.bias\", \"bertmodel.transformer.layer.0.attention.q_lin.weight\", \"bertmodel.transformer.layer.0.attention.q_lin.bias\", \"bertmodel.transformer.layer.0.attention.k_lin.weight\", \"bertmodel.transformer.layer.0.attention.k_lin.bias\", \"bertmodel.transformer.layer.0.attention.v_lin.weight\", \"bertmodel.transformer.layer.0.attention.v_lin.bias\", \"bertmodel.transformer.layer.0.attention.out_lin.weight\", \"bertmodel.transformer.layer.0.attention.out_lin.bias\", \"bertmodel.transformer.layer.0.sa_layer_norm.weight\", \"bertmodel.transformer.layer.0.sa_layer_norm.bias\", \"bertmodel.transformer.layer.0.ffn.lin1.weight\", \"bertmodel.transformer.layer.0.ffn.lin1.bias\", \"bertmodel.transformer.layer.0.ffn.lin2.weight\", \"bertmodel.transformer.layer.0.ffn.lin2.bias\", \"bertmodel.transformer.layer.0.output_layer_norm.weight\", \"bertmodel.transformer.layer.0.output_layer_norm.bias\", \"bertmodel.transformer.layer.1.attention.q_lin.weight\", \"bertmodel.transformer.layer.1.attention.q_lin.bias\", \"bertmodel.transformer.layer.1.attention.k_lin.weight\", \"bertmodel.transformer.layer.1.attention.k_lin.bias\", \"bertmodel.transformer.layer.1.attention.v_lin.weight\", \"bertmodel.transformer.layer.1.attention.v_lin.bias\", \"bertmodel.transformer.layer.1.attention.out_lin.weight\", \"bertmodel.transformer.layer.1.attention.out_lin.bias\", \"bertmodel.transformer.layer.1.sa_layer_norm.weight\", \"bertmodel.transformer.layer.1.sa_layer_norm.bias\", \"bertmodel.transformer.layer.1.ffn.lin1.weight\", \"bertmodel.transformer.layer.1.ffn.lin1.bias\", \"bertmodel.transformer.layer.1.ffn.lin2.weight\", \"bertmodel.transformer.layer.1.ffn.lin2.bias\", \"bertmodel.transformer.layer.1.output_layer_norm.weight\", \"bertmodel.transformer.layer.1.output_layer_norm.bias\", \"bertmodel.transformer.layer.2.attention.q_lin.weight\", \"bertmodel.transformer.layer.2.attention.q_lin.bias\", \"bertmodel.transformer.layer.2.attention.k_lin.weight\", \"bertmodel.transformer.layer.2.attention.k_lin.bias\", \"bertmodel.transformer.layer.2.attention.v_lin.weight\", \"bertmodel.transformer.layer.2.attention.v_lin.bias\", \"bertmodel.transformer.layer.2.attention.out_lin.weight\", \"bertmodel.transformer.layer.2.attention.out_lin.bias\", \"bertmodel.transformer.layer.2.sa_layer_norm.weight\", \"bertmodel.transformer.layer.2.sa_layer_norm.bias\", \"bertmodel.transformer.layer.2.ffn.lin1.weight\", \"bertmodel.transformer.layer.2.ffn.lin1.bias\", \"bertmodel.transformer.layer.2.ffn.lin2.weight\", \"bertmodel.transformer.layer.2.ffn.lin2.bias\", \"bertmodel.transformer.layer.2.output_layer_norm.weight\", \"bertmodel.transformer.layer.2.output_layer_norm.bias\", \"bertmodel.transformer.layer.3.attention.q_lin.weight\", \"bertmodel.transformer.layer.3.attention.q_lin.bias\", \"bertmodel.transformer.layer.3.attention.k_lin.weight\", \"bertmodel.transformer.layer.3.attention.k_lin.bias\", \"bertmodel.transformer.layer.3.attention.v_lin.weight\", \"bertmodel.transformer.layer.3.attention.v_lin.bias\", \"bertmodel.transformer.layer.3.attention.out_lin.weight\", \"bertmodel.transformer.layer.3.attention.out_lin.bias\", \"bertmodel.transformer.layer.3.sa_layer_norm.weight\", \"bertmodel.transformer.layer.3.sa_layer_norm.bias\", \"bertmodel.transformer.layer.3.ffn.lin1.weight\", \"bertmodel.transformer.layer.3.ffn.lin1.bias\", \"bertmodel.transformer.layer.3.ffn.lin2.weight\", \"bertmodel.transformer.layer.3.ffn.lin2.bias\", \"bertmodel.transformer.layer.3.output_layer_norm.weight\", \"bertmodel.transformer.layer.3.output_layer_norm.bias\", \"bertmodel.transformer.layer.4.attention.q_lin.weight\", \"bertmodel.transformer.layer.4.attention.q_lin.bias\", \"bertmodel.transformer.layer.4.attention.k_lin.weight\", \"bertmodel.transformer.layer.4.attention.k_lin.bias\", \"bertmodel.transformer.layer.4.attention.v_lin.weight\", \"bertmodel.transformer.layer.4.attention.v_lin.bias\", \"bertmodel.transformer.layer.4.attention.out_lin.weight\", \"bertmodel.transformer.layer.4.attention.out_lin.bias\", \"bertmodel.transformer.layer.4.sa_layer_norm.weight\", \"bertmodel.transformer.layer.4.sa_layer_norm.bias\", \"bertmodel.transformer.layer.4.ffn.lin1.weight\", \"bertmodel.transformer.layer.4.ffn.lin1.bias\", \"bertmodel.transformer.layer.4.ffn.lin2.weight\", \"bertmodel.transformer.layer.4.ffn.lin2.bias\", \"bertmodel.transformer.layer.4.output_layer_norm.weight\", \"bertmodel.transformer.layer.4.output_layer_norm.bias\", \"bertmodel.transformer.layer.5.attention.q_lin.weight\", \"bertmodel.transformer.layer.5.attention.q_lin.bias\", \"bertmodel.transformer.layer.5.attention.k_lin.weight\", \"bertmodel.transformer.layer.5.attention.k_lin.bias\", \"bertmodel.transformer.layer.5.attention.v_lin.weight\", \"bertmodel.transformer.layer.5.attention.v_lin.bias\", \"bertmodel.transformer.layer.5.attention.out_lin.weight\", \"bertmodel.transformer.layer.5.attention.out_lin.bias\", \"bertmodel.transformer.layer.5.sa_layer_norm.weight\", \"bertmodel.transformer.layer.5.sa_layer_norm.bias\", \"bertmodel.transformer.layer.5.ffn.lin1.weight\", \"bertmodel.transformer.layer.5.ffn.lin1.bias\", \"bertmodel.transformer.layer.5.ffn.lin2.weight\", \"bertmodel.transformer.layer.5.ffn.lin2.bias\", \"bertmodel.transformer.layer.5.output_layer_norm.weight\", \"bertmodel.transformer.layer.5.output_layer_norm.bias\", \"at_emb_layer.weight\", \"at_emb_layer.bias\", \"at2_emb_layer.weight\", \"at2_emb_layer.bias\", \"qr_emb_layer.weight\", \"v_emb_layer.weight\", \"v_emb_layer.bias\", \"e_layer.weight\", \"e_layer.bias\", \"a_layer.weight\", \"a_layer.bias\", \"f_layer.weight\", \"f_layer.bias\", \"p_layer.weight\", \"p_layer.bias\". \n\tUnexpected key(s) in state_dict: \"module.Mk\", \"module.Mv0\", \"module.k_emb_layer.weight\", \"module.d_emb_layer.weight\", \"module.transformer_encoder.layers.0.self_attn.in_proj_weight\", \"module.transformer_encoder.layers.0.self_attn.in_proj_bias\", \"module.transformer_encoder.layers.0.self_attn.out_proj.weight\", \"module.transformer_encoder.layers.0.self_attn.out_proj.bias\", \"module.transformer_encoder.layers.0.linear1.weight\", \"module.transformer_encoder.layers.0.linear1.bias\", \"module.transformer_encoder.layers.0.linear2.weight\", \"module.transformer_encoder.layers.0.linear2.bias\", \"module.transformer_encoder.layers.0.norm1.weight\", \"module.transformer_encoder.layers.0.norm1.bias\", \"module.transformer_encoder.layers.0.norm2.weight\", \"module.transformer_encoder.layers.0.norm2.bias\", \"module.bertmodel.embeddings.position_ids\", \"module.bertmodel.embeddings.word_embeddings.weight\", \"module.bertmodel.embeddings.position_embeddings.weight\", \"module.bertmodel.embeddings.token_type_embeddings.weight\", \"module.bertmodel.embeddings.LayerNorm.weight\", \"module.bertmodel.embeddings.LayerNorm.bias\", \"module.bertmodel.encoder.layer.0.attention.self.query.weight\", \"module.bertmodel.encoder.layer.0.attention.self.query.bias\", \"module.bertmodel.encoder.layer.0.attention.self.key.weight\", \"module.bertmodel.encoder.layer.0.attention.self.key.bias\", \"module.bertmodel.encoder.layer.0.attention.self.value.weight\", \"module.bertmodel.encoder.layer.0.attention.self.value.bias\", \"module.bertmodel.encoder.layer.0.attention.output.dense.weight\", \"module.bertmodel.encoder.layer.0.attention.output.dense.bias\", \"module.bertmodel.encoder.layer.0.attention.output.LayerNorm.weight\", \"module.bertmodel.encoder.layer.0.attention.output.LayerNorm.bias\", \"module.bertmodel.encoder.layer.0.intermediate.dense.weight\", \"module.bertmodel.encoder.layer.0.intermediate.dense.bias\", \"module.bertmodel.encoder.layer.0.output.dense.weight\", \"module.bertmodel.encoder.layer.0.output.dense.bias\", \"module.bertmodel.encoder.layer.0.output.LayerNorm.weight\", \"module.bertmodel.encoder.layer.0.output.LayerNorm.bias\", \"module.bertmodel.encoder.layer.1.attention.self.query.weight\", \"module.bertmodel.encoder.layer.1.attention.self.query.bias\", \"module.bertmodel.encoder.layer.1.attention.self.key.weight\", \"module.bertmodel.encoder.layer.1.attention.self.key.bias\", \"module.bertmodel.encoder.layer.1.attention.self.value.weight\", \"module.bertmodel.encoder.layer.1.attention.self.value.bias\", \"module.bertmodel.encoder.layer.1.attention.output.dense.weight\", \"module.bertmodel.encoder.layer.1.attention.output.dense.bias\", \"module.bertmodel.encoder.layer.1.attention.output.LayerNorm.weight\", \"module.bertmodel.encoder.layer.1.attention.output.LayerNorm.bias\", \"module.bertmodel.encoder.layer.1.intermediate.dense.weight\", \"module.bertmodel.encoder.layer.1.intermediate.dense.bias\", \"module.bertmodel.encoder.layer.1.output.dense.weight\", \"module.bertmodel.encoder.layer.1.output.dense.bias\", \"module.bertmodel.encoder.layer.1.output.LayerNorm.weight\", \"module.bertmodel.encoder.layer.1.output.LayerNorm.bias\", \"module.bertmodel.encoder.layer.2.attention.self.query.weight\", \"module.bertmodel.encoder.layer.2.attention.self.query.bias\", \"module.bertmodel.encoder.layer.2.attention.self.key.weight\", \"module.bertmodel.encoder.layer.2.attention.self.key.bias\", \"module.bertmodel.encoder.layer.2.attention.self.value.weight\", \"module.bertmodel.encoder.layer.2.attention.self.value.bias\", \"module.bertmodel.encoder.layer.2.attention.output.dense.weight\", \"module.bertmodel.encoder.layer.2.attention.output.dense.bias\", \"module.bertmodel.encoder.layer.2.attention.output.LayerNorm.weight\", \"module.bertmodel.encoder.layer.2.attention.output.LayerNorm.bias\", \"module.bertmodel.encoder.layer.2.intermediate.dense.weight\", \"module.bertmodel.encoder.layer.2.intermediate.dense.bias\", \"module.bertmodel.encoder.layer.2.output.dense.weight\", \"module.bertmodel.encoder.layer.2.output.dense.bias\", \"module.bertmodel.encoder.layer.2.output.LayerNorm.weight\", \"module.bertmodel.encoder.layer.2.output.LayerNorm.bias\", \"module.bertmodel.encoder.layer.3.attention.self.query.weight\", \"module.bertmodel.encoder.layer.3.attention.self.query.bias\", \"module.bertmodel.encoder.layer.3.attention.self.key.weight\", \"module.bertmodel.encoder.layer.3.attention.self.key.bias\", \"module.bertmodel.encoder.layer.3.attention.self.value.weight\", \"module.bertmodel.encoder.layer.3.attention.self.value.bias\", \"module.bertmodel.encoder.layer.3.attention.output.dense.weight\", \"module.bertmodel.encoder.layer.3.attention.output.dense.bias\", \"module.bertmodel.encoder.layer.3.attention.output.LayerNorm.weight\", \"module.bertmodel.encoder.layer.3.attention.output.LayerNorm.bias\", \"module.bertmodel.encoder.layer.3.intermediate.dense.weight\", \"module.bertmodel.encoder.layer.3.intermediate.dense.bias\", \"module.bertmodel.encoder.layer.3.output.dense.weight\", \"module.bertmodel.encoder.layer.3.output.dense.bias\", \"module.bertmodel.encoder.layer.3.output.LayerNorm.weight\", \"module.bertmodel.encoder.layer.3.output.LayerNorm.bias\", \"module.bertmodel.encoder.layer.4.attention.self.query.weight\", \"module.bertmodel.encoder.layer.4.attention.self.query.bias\", \"module.bertmodel.encoder.layer.4.attention.self.key.weight\", \"module.bertmodel.encoder.layer.4.attention.self.key.bias\", \"module.bertmodel.encoder.layer.4.attention.self.value.weight\", \"module.bertmodel.encoder.layer.4.attention.self.value.bias\", \"module.bertmodel.encoder.layer.4.attention.output.dense.weight\", \"module.bertmodel.encoder.layer.4.attention.output.dense.bias\", \"module.bertmodel.encoder.layer.4.attention.output.LayerNorm.weight\", \"module.bertmodel.encoder.layer.4.attention.output.LayerNorm.bias\", \"module.bertmodel.encoder.layer.4.intermediate.dense.weight\", \"module.bertmodel.encoder.layer.4.intermediate.dense.bias\", \"module.bertmodel.encoder.layer.4.output.dense.weight\", \"module.bertmodel.encoder.layer.4.output.dense.bias\", \"module.bertmodel.encoder.layer.4.output.LayerNorm.weight\", \"module.bertmodel.encoder.layer.4.output.LayerNorm.bias\", \"module.bertmodel.encoder.layer.5.attention.self.query.weight\", \"module.bertmodel.encoder.layer.5.attention.self.query.bias\", \"module.bertmodel.encoder.layer.5.attention.self.key.weight\", \"module.bertmodel.encoder.layer.5.attention.self.key.bias\", \"module.bertmodel.encoder.layer.5.attention.self.value.weight\", \"module.bertmodel.encoder.layer.5.attention.self.value.bias\", \"module.bertmodel.encoder.layer.5.attention.output.dense.weight\", \"module.bertmodel.encoder.layer.5.attention.output.dense.bias\", \"module.bertmodel.encoder.layer.5.attention.output.LayerNorm.weight\", \"module.bertmodel.encoder.layer.5.attention.output.LayerNorm.bias\", \"module.bertmodel.encoder.layer.5.intermediate.dense.weight\", \"module.bertmodel.encoder.layer.5.intermediate.dense.bias\", \"module.bertmodel.encoder.layer.5.output.dense.weight\", \"module.bertmodel.encoder.layer.5.output.dense.bias\", \"module.bertmodel.encoder.layer.5.output.LayerNorm.weight\", \"module.bertmodel.encoder.layer.5.output.LayerNorm.bias\", \"module.bertmodel.encoder.layer.6.attention.self.query.weight\", \"module.bertmodel.encoder.layer.6.attention.self.query.bias\", \"module.bertmodel.encoder.layer.6.attention.self.key.weight\", \"module.bertmodel.encoder.layer.6.attention.self.key.bias\", \"module.bertmodel.encoder.layer.6.attention.self.value.weight\", \"module.bertmodel.encoder.layer.6.attention.self.value.bias\", \"module.bertmodel.encoder.layer.6.attention.output.dense.weight\", \"module.bertmodel.encoder.layer.6.attention.output.dense.bias\", \"module.bertmodel.encoder.layer.6.attention.output.LayerNorm.weight\", \"module.bertmodel.encoder.layer.6.attention.output.LayerNorm.bias\", \"module.bertmodel.encoder.layer.6.intermediate.dense.weight\", \"module.bertmodel.encoder.layer.6.intermediate.dense.bias\", \"module.bertmodel.encoder.layer.6.output.dense.weight\", \"module.bertmodel.encoder.layer.6.output.dense.bias\", \"module.bertmodel.encoder.layer.6.output.LayerNorm.weight\", \"module.bertmodel.encoder.layer.6.output.LayerNorm.bias\", \"module.bertmodel.encoder.layer.7.attention.self.query.weight\", \"module.bertmodel.encoder.layer.7.attention.self.query.bias\", \"module.bertmodel.encoder.layer.7.attention.self.key.weight\", \"module.bertmodel.encoder.layer.7.attention.self.key.bias\", \"module.bertmodel.encoder.layer.7.attention.self.value.weight\", \"module.bertmodel.encoder.layer.7.attention.self.value.bias\", \"module.bertmodel.encoder.layer.7.attention.output.dense.weight\", \"module.bertmodel.encoder.layer.7.attention.output.dense.bias\", \"module.bertmodel.encoder.layer.7.attention.output.LayerNorm.weight\", \"module.bertmodel.encoder.layer.7.attention.output.LayerNorm.bias\", \"module.bertmodel.encoder.layer.7.intermediate.dense.weight\", \"module.bertmodel.encoder.layer.7.intermediate.dense.bias\", \"module.bertmodel.encoder.layer.7.output.dense.weight\", \"module.bertmodel.encoder.layer.7.output.dense.bias\", \"module.bertmodel.encoder.layer.7.output.LayerNorm.weight\", \"module.bertmodel.encoder.layer.7.output.LayerNorm.bias\", \"module.bertmodel.encoder.layer.8.attention.self.query.weight\", \"module.bertmodel.encoder.layer.8.attention.self.query.bias\", \"module.bertmodel.encoder.layer.8.attention.self.key.weight\", \"module.bertmodel.encoder.layer.8.attention.self.key.bias\", \"module.bertmodel.encoder.layer.8.attention.self.value.weight\", \"module.bertmodel.encoder.layer.8.attention.self.value.bias\", \"module.bertmodel.encoder.layer.8.attention.output.dense.weight\", \"module.bertmodel.encoder.layer.8.attention.output.dense.bias\", \"module.bertmodel.encoder.layer.8.attention.output.LayerNorm.weight\", \"module.bertmodel.encoder.layer.8.attention.output.LayerNorm.bias\", \"module.bertmodel.encoder.layer.8.intermediate.dense.weight\", \"module.bertmodel.encoder.layer.8.intermediate.dense.bias\", \"module.bertmodel.encoder.layer.8.output.dense.weight\", \"module.bertmodel.encoder.layer.8.output.dense.bias\", \"module.bertmodel.encoder.layer.8.output.LayerNorm.weight\", \"module.bertmodel.encoder.layer.8.output.LayerNorm.bias\", \"module.bertmodel.encoder.layer.9.attention.self.query.weight\", \"module.bertmodel.encoder.layer.9.attention.self.query.bias\", \"module.bertmodel.encoder.layer.9.attention.self.key.weight\", \"module.bertmodel.encoder.layer.9.attention.self.key.bias\", \"module.bertmodel.encoder.layer.9.attention.self.value.weight\", \"module.bertmodel.encoder.layer.9.attention.self.value.bias\", \"module.bertmodel.encoder.layer.9.attention.output.dense.weight\", \"module.bertmodel.encoder.layer.9.attention.output.dense.bias\", \"module.bertmodel.encoder.layer.9.attention.output.LayerNorm.weight\", \"module.bertmodel.encoder.layer.9.attention.output.LayerNorm.bias\", \"module.bertmodel.encoder.layer.9.intermediate.dense.weight\", \"module.bertmodel.encoder.layer.9.intermediate.dense.bias\", \"module.bertmodel.encoder.layer.9.output.dense.weight\", \"module.bertmodel.encoder.layer.9.output.dense.bias\", \"module.bertmodel.encoder.layer.9.output.LayerNorm.weight\", \"module.bertmodel.encoder.layer.9.output.LayerNorm.bias\", \"module.bertmodel.encoder.layer.10.attention.self.query.weight\", \"module.bertmodel.encoder.layer.10.attention.self.query.bias\", \"module.bertmodel.encoder.layer.10.attention.self.key.weight\", \"module.bertmodel.encoder.layer.10.attention.self.key.bias\", \"module.bertmodel.encoder.layer.10.attention.self.value.weight\", \"module.bertmodel.encoder.layer.10.attention.self.value.bias\", \"module.bertmodel.encoder.layer.10.attention.output.dense.weight\", \"module.bertmodel.encoder.layer.10.attention.output.dense.bias\", \"module.bertmodel.encoder.layer.10.attention.output.LayerNorm.weight\", \"module.bertmodel.encoder.layer.10.attention.output.LayerNorm.bias\", \"module.bertmodel.encoder.layer.10.intermediate.dense.weight\", \"module.bertmodel.encoder.layer.10.intermediate.dense.bias\", \"module.bertmodel.encoder.layer.10.output.dense.weight\", \"module.bertmodel.encoder.layer.10.output.dense.bias\", \"module.bertmodel.encoder.layer.10.output.LayerNorm.weight\", \"module.bertmodel.encoder.layer.10.output.LayerNorm.bias\", \"module.bertmodel.encoder.layer.11.attention.self.query.weight\", \"module.bertmodel.encoder.layer.11.attention.self.query.bias\", \"module.bertmodel.encoder.layer.11.attention.self.key.weight\", \"module.bertmodel.encoder.layer.11.attention.self.key.bias\", \"module.bertmodel.encoder.layer.11.attention.self.value.weight\", \"module.bertmodel.encoder.layer.11.attention.self.value.bias\", \"module.bertmodel.encoder.layer.11.attention.output.dense.weight\", \"module.bertmodel.encoder.layer.11.attention.output.dense.bias\", \"module.bertmodel.encoder.layer.11.attention.output.LayerNorm.weight\", \"module.bertmodel.encoder.layer.11.attention.output.LayerNorm.bias\", \"module.bertmodel.encoder.layer.11.intermediate.dense.weight\", \"module.bertmodel.encoder.layer.11.intermediate.dense.bias\", \"module.bertmodel.encoder.layer.11.output.dense.weight\", \"module.bertmodel.encoder.layer.11.output.dense.bias\", \"module.bertmodel.encoder.layer.11.output.LayerNorm.weight\", \"module.bertmodel.encoder.layer.11.output.LayerNorm.bias\", \"module.bertmodel.pooler.dense.weight\", \"module.bertmodel.pooler.dense.bias\", \"module.at_emb_layer.weight\", \"module.at_emb_layer.bias\", \"module.at2_emb_layer.weight\", \"module.at2_emb_layer.bias\", \"module.qr_emb_layer.weight\", \"module.v_emb_layer.weight\", \"module.v_emb_layer.bias\", \"module.e_layer.weight\", \"module.e_layer.bias\", \"module.a_layer.weight\", \"module.a_layer.bias\", \"module.f_layer.weight\", \"module.f_layer.bias\", \"module.p_layer.weight\", \"module.p_layer.bias\". "
     ]
    }
   ],
   "source": [
    "# load model / tokenizer\n",
    "model = SUBJ_DKVMN(dataset.num_q, num_qid=dataset.num_pid, **model_config).to(device)\n",
    "model.load_state_dict(torch.load(os.path.join(ckpts, \"model.ckpt\"), map_location=device))\n",
    "model.eval()\n",
    "model.zero_grad()\n",
    "\n",
    "tokenizer = DistilBertTokenizer.from_pretrained('distilbert-base-uncased')"
   ]
  },
  {
   "cell_type": "code",
   "execution_count": null,
   "metadata": {},
   "outputs": [],
   "source": [
    "# predict answer (testing model)\n",
    "def predict(q, r, at_s, at_t, at_m):\n",
    "    output = model(q, r, at_s, at_t, at_m)\n",
    "    return output.start_logits, output.end_logits\n",
    "\n",
    "# custom forward function\n",
    "def custom_forward(inputs, token_type_ids=None, position_ids=None, attention_mask=None, position=0):\n",
    "    pred = predict(inputs, position_ids, token_type_ids, attention_mask)\n",
    "    pred = pred[position]\n",
    "    return pred.max(1).values"
   ]
  },
  {
   "cell_type": "code",
   "execution_count": null,
   "metadata": {},
   "outputs": [
    {
     "ename": "NameError",
     "evalue": "name 'tokenizer' is not defined",
     "output_type": "error",
     "traceback": [
      "\u001b[1;31m---------------------------------------------------------------------------\u001b[0m",
      "\u001b[1;31mNameError\u001b[0m                                 Traceback (most recent call last)",
      "\u001b[1;32m<ipython-input-13-74c248f95b41>\u001b[0m in \u001b[0;36m<module>\u001b[1;34m\u001b[0m\n\u001b[1;32m----> 1\u001b[1;33m \u001b[0mref_token_id\u001b[0m \u001b[1;33m=\u001b[0m \u001b[0mtokenizer\u001b[0m\u001b[1;33m.\u001b[0m\u001b[0mpad_token_id\u001b[0m\u001b[1;33m\u001b[0m\u001b[1;33m\u001b[0m\u001b[0m\n\u001b[0m\u001b[0;32m      2\u001b[0m \u001b[0msep_token_id\u001b[0m \u001b[1;33m=\u001b[0m \u001b[0mtokenizer\u001b[0m\u001b[1;33m.\u001b[0m\u001b[0msep_token_id\u001b[0m\u001b[1;33m\u001b[0m\u001b[1;33m\u001b[0m\u001b[0m\n\u001b[0;32m      3\u001b[0m \u001b[0mcls_token_id\u001b[0m \u001b[1;33m=\u001b[0m \u001b[0mtokenizer\u001b[0m\u001b[1;33m.\u001b[0m\u001b[0mcls_token_id\u001b[0m\u001b[1;33m\u001b[0m\u001b[1;33m\u001b[0m\u001b[0m\n",
      "\u001b[1;31mNameError\u001b[0m: name 'tokenizer' is not defined"
     ]
    }
   ],
   "source": [
    "ref_token_id = tokenizer.pad_token_id\n",
    "sep_token_id = tokenizer.sep_token_id\n",
    "cls_token_id = tokenizer.cls_token_id"
   ]
  },
  {
   "cell_type": "code",
   "execution_count": null,
   "metadata": {},
   "outputs": [],
   "source": [
    "# define helper function for constructing references / baseline for word tokens\n",
    "# 이게 원래 인풋으로 들어가는 Question과 아웃풋의 Answering이 존재했는데 나는 Answering 안써서 Answering 제거함\n",
    "def construct_input_ref_pair(text, ref_token_id, sep_token_id, cls_token_id):\n",
    "    text_ids = tokenizer.encode(text, add_special_tokens=False)\n",
    "    \n",
    "    # construct input token ids\n",
    "    input_ids = [cls_token_id] + text_ids + [sep_token_id]\n",
    "    \n",
    "    # construct reference token ids\n",
    "    ref_input_ids = [cls_token_id] + [ref_token_id] * len(text_ids)\n",
    "    \n",
    "    return torch.tensor([input_ids], device=device), torch.tensor([ref_input_ids], device=device), len(text_ids)\n",
    "\n",
    "\n",
    "def construct_input_ref_token_type_pair(input_ids, sep_ind=0):\n",
    "    seq_len = input_ids.size(1)\n",
    "    token_type_ids = torch.tensor([[0 if i <= sep_ind else 1 for i in range(seq_len)]], device=device)\n",
    "    ref_token_type_ids = torch.zeros_like(token_type_ids, device=device) # * -1\n",
    "    return token_type_ids, ref_token_type_ids\n",
    "\n",
    "\n",
    "def construct_input_ref_pos_id_pair(input_ids):\n",
    "    seq_length = input_ids.size(1)\n",
    "    position_ids = torch.arange(seq_length, dtype=torch.long, device=device)\n",
    "    # we could potentially also use random permutation with 'torch.randperm(seq_length, device=device)'\n",
    "    ref_position_ids = torch.zeros(seq_length, dtype=torch.long, device=device)\n",
    "    \n",
    "    position_ids = position_ids.unsqueeze(0).expand_as(input_ids)\n",
    "    ref_position_ids = ref_position_ids.unsqueeze(0).expand_as(input_ids)\n",
    "    return position_ids, ref_position_ids\n",
    "\n",
    "\n",
    "# 어텐션 마스크 구성\n",
    "def construct_attention_mask(input_ids):\n",
    "    return torch.ones_like(input_ids)\n",
    "\n",
    "\n",
    "# 버트 임베딩 구성\n",
    "def construct_whole_bert_embeddings(input_ids, ref_input_ids, \\\n",
    "                                    token_type_ids=None, ref_token_type_ids=None, \\\n",
    "                                    position_ids=None, ref_position_ids=None):\n",
    "    input_embeddings = model.module.bertmodel.embeddings(input_ids, token_type_ids=token_type_ids, position_ids=position_ids)\n",
    "    ref_input_embeddings = model.module.bertmodel.embeddings(ref_input_ids, token_type_ids=ref_token_type_ids, position_ids=ref_position_ids)\n",
    "    \n",
    "    return input_embeddings, ref_input_embeddings\n",
    "\n",
    "\n",
    "# 시퀀스에서 각 워드 토큰에 대해 속성을 요약해주는 헬퍼 함수\n",
    "def summarize_attributions(attributions):\n",
    "    attributions = attributions.sum(dim=-1).squeeze(0)\n",
    "    attributions = attributions / torch.norm(attributions)\n",
    "    return attributions"
   ]
  },
  {
   "cell_type": "code",
   "execution_count": null,
   "metadata": {},
   "outputs": [],
   "source": [
    "with torch.no_grad():\n",
    "    for i, data in enumerate(test_loader):\n",
    "        q, r, qshft_seqs, rshft_seqs, m, at_seqs, q2diff_seqs, pid_seqs, pidshift = data\n",
    "        \n",
    "        print(at_seqs)\n",
    "        input_ids, ref_input_ids, sep_id = construct_input_ref_pair(at_seqs, ref_token_id, sep_token_id, cls_token_id)\n",
    "        token_type_ids, ref_token_type_ids = construct_input_ref_token_type_pair(input_ids, sep_id)\n",
    "        position_ids, ref_position_ids = construct_input_ref_pos_id_pair(input_ids)\n",
    "        attention_mask = construct_attention_mask(input_ids)\n",
    "        \n",
    "        indices = input_ids[0].detach().tolist()\n",
    "        all_tokens = tokenizer.convert_ids_to_tokens(indices)\n",
    "        \n",
    "        \n",
    "        # make prediction\n",
    "        start_scores, end_scores = predict(q.long(), r.long(), input_ids, token_type_ids, attention_mask)\n",
    "        print(f\"Affected Text: {all_tokens[torch.argmax(start_scores) : torch.argmax(end_scores) + 1]}\")\n",
    "        \n",
    "        # 워드 임베딩 변화량 볼 수 있음\n",
    "        lig = LayerIntegratedGradients()\n",
    "        attribution_start, delta_start = lig\n",
    "        \n",
    "            \n",
    "        break"
   ]
  },
  {
   "cell_type": "code",
   "execution_count": null,
   "metadata": {},
   "outputs": [],
   "source": []
  },
  {
   "cell_type": "code",
   "execution_count": null,
   "metadata": {},
   "outputs": [],
   "source": [
    "def "
   ]
  },
  {
   "cell_type": "code",
   "execution_count": null,
   "metadata": {},
   "outputs": [],
   "source": []
  },
  {
   "cell_type": "code",
   "execution_count": null,
   "metadata": {},
   "outputs": [],
   "source": []
  },
  {
   "cell_type": "code",
   "execution_count": null,
   "metadata": {},
   "outputs": [],
   "source": []
  }
 ],
 "metadata": {
  "kernelspec": {
   "display_name": "Python 3",
   "language": "python",
   "name": "python3"
  },
  "language_info": {
   "codemirror_mode": {
    "name": "ipython",
    "version": 3
   },
   "file_extension": ".py",
   "mimetype": "text/x-python",
   "name": "python",
   "nbconvert_exporter": "python",
   "pygments_lexer": "ipython3",
   "version": "3.6.15"
  },
  "orig_nbformat": 4
 },
 "nbformat": 4,
 "nbformat_minor": 2
}
